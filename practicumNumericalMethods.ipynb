{
  "nbformat": 4,
  "nbformat_minor": 0,
  "metadata": {
    "ExecuteTimeLog": [
      {
        "duration": 1545,
        "start_time": "2021-09-27T14:40:50.494Z"
      },
      {
        "duration": 3203,
        "start_time": "2021-09-27T14:41:02.671Z"
      },
      {
        "duration": 11,
        "start_time": "2021-09-27T14:45:22.507Z"
      },
      {
        "duration": 1822,
        "start_time": "2021-09-27T14:45:54.471Z"
      },
      {
        "duration": 4,
        "start_time": "2021-09-27T14:46:20.939Z"
      },
      {
        "duration": 131,
        "start_time": "2021-09-27T14:49:39.727Z"
      },
      {
        "duration": 1741,
        "start_time": "2021-09-27T14:50:06.700Z"
      },
      {
        "duration": 1592,
        "start_time": "2021-09-27T14:50:08.444Z"
      },
      {
        "duration": 11,
        "start_time": "2021-09-27T14:50:10.039Z"
      },
      {
        "duration": 1856,
        "start_time": "2021-09-27T14:50:10.060Z"
      },
      {
        "duration": 126,
        "start_time": "2021-09-27T15:04:29.346Z"
      },
      {
        "duration": 6,
        "start_time": "2021-09-27T15:04:41.843Z"
      },
      {
        "duration": 320,
        "start_time": "2021-09-27T15:30:03.877Z"
      },
      {
        "duration": 6,
        "start_time": "2021-09-27T15:34:13.934Z"
      },
      {
        "duration": 3834,
        "start_time": "2021-09-27T15:34:27.301Z"
      },
      {
        "duration": 21217,
        "start_time": "2021-09-27T15:34:43.804Z"
      },
      {
        "duration": 21397,
        "start_time": "2021-09-27T15:35:23.651Z"
      },
      {
        "duration": 22303,
        "start_time": "2021-09-27T15:36:18.637Z"
      },
      {
        "duration": 66,
        "start_time": "2021-09-27T15:36:56.429Z"
      },
      {
        "duration": 303,
        "start_time": "2021-09-27T15:37:17.332Z"
      },
      {
        "duration": 74,
        "start_time": "2021-09-27T15:38:05.156Z"
      },
      {
        "duration": 223,
        "start_time": "2021-09-27T15:38:22.443Z"
      },
      {
        "duration": 302,
        "start_time": "2021-09-27T15:38:29.412Z"
      },
      {
        "duration": 759,
        "start_time": "2021-09-27T15:38:53.849Z"
      },
      {
        "duration": 1580,
        "start_time": "2021-09-27T15:47:55.973Z"
      },
      {
        "duration": 3268,
        "start_time": "2021-09-27T15:48:37.394Z"
      },
      {
        "duration": 11,
        "start_time": "2021-09-27T15:48:44.164Z"
      },
      {
        "duration": 1794,
        "start_time": "2021-09-27T15:48:48.732Z"
      },
      {
        "duration": 128,
        "start_time": "2021-09-27T15:50:08.252Z"
      },
      {
        "duration": 6,
        "start_time": "2021-09-27T15:50:20.213Z"
      },
      {
        "duration": 308,
        "start_time": "2021-09-27T15:50:27.115Z"
      },
      {
        "duration": 7,
        "start_time": "2021-09-27T15:50:36.488Z"
      },
      {
        "duration": 3800,
        "start_time": "2021-09-27T15:50:45.668Z"
      },
      {
        "duration": 21287,
        "start_time": "2021-09-27T15:50:54.197Z"
      },
      {
        "duration": 21432,
        "start_time": "2021-09-27T15:51:22.039Z"
      },
      {
        "duration": 21566,
        "start_time": "2021-09-27T15:51:51.688Z"
      },
      {
        "duration": 63,
        "start_time": "2021-09-27T15:52:34.156Z"
      },
      {
        "duration": 296,
        "start_time": "2021-09-27T15:52:50.799Z"
      },
      {
        "duration": 74,
        "start_time": "2021-09-27T15:53:16.230Z"
      },
      {
        "duration": 309,
        "start_time": "2021-09-27T15:53:34.053Z"
      },
      {
        "duration": 334,
        "start_time": "2021-09-27T15:53:43.325Z"
      },
      {
        "duration": 831,
        "start_time": "2021-09-27T15:54:00.816Z"
      },
      {
        "duration": 120,
        "start_time": "2021-09-27T15:55:24.724Z"
      },
      {
        "duration": 98019,
        "start_time": "2021-09-27T15:55:36.767Z"
      },
      {
        "duration": 123,
        "start_time": "2021-09-27T16:00:56.057Z"
      },
      {
        "duration": 67,
        "start_time": "2021-09-27T16:01:25.902Z"
      },
      {
        "duration": 8,
        "start_time": "2021-09-27T16:01:48.342Z"
      },
      {
        "duration": 505,
        "start_time": "2021-09-27T16:01:58.677Z"
      },
      {
        "duration": 1743,
        "start_time": "2021-09-27T16:02:09.769Z"
      },
      {
        "duration": 28,
        "start_time": "2021-09-27T16:03:05.169Z"
      },
      {
        "duration": 4124,
        "start_time": "2021-09-27T16:03:18.556Z"
      },
      {
        "duration": 1166,
        "start_time": "2021-09-27T16:07:19.398Z"
      },
      {
        "duration": 181,
        "start_time": "2021-09-27T16:07:40.649Z"
      },
      {
        "duration": 233,
        "start_time": "2021-09-27T16:09:32.803Z"
      },
      {
        "duration": 147,
        "start_time": "2021-09-27T16:09:42.857Z"
      },
      {
        "duration": 5,
        "start_time": "2021-09-27T16:09:57.411Z"
      },
      {
        "duration": 61505,
        "start_time": "2021-09-27T16:10:13.397Z"
      },
      {
        "duration": 110688,
        "start_time": "2021-09-27T16:11:40.703Z"
      },
      {
        "duration": 2963,
        "start_time": "2021-09-27T16:17:00.143Z"
      },
      {
        "duration": 33271,
        "start_time": "2021-09-27T16:17:32.297Z"
      },
      {
        "duration": 1509,
        "start_time": "2021-09-27T16:18:43.393Z"
      },
      {
        "duration": 484753,
        "start_time": "2021-09-27T16:18:58.163Z"
      },
      {
        "duration": 1543812,
        "start_time": "2021-09-27T16:27:22.469Z"
      },
      {
        "duration": 6,
        "start_time": "2021-09-27T16:55:47.510Z"
      },
      {
        "duration": 47187,
        "start_time": "2021-09-27T16:56:02.321Z"
      },
      {
        "duration": 176,
        "start_time": "2021-09-27T16:57:22.198Z"
      },
      {
        "duration": 35427,
        "start_time": "2021-09-27T17:02:56.443Z"
      },
      {
        "duration": 760781,
        "start_time": "2021-09-27T17:03:37.912Z"
      },
      {
        "duration": 780108,
        "start_time": "2021-09-27T17:16:24.527Z"
      },
      {
        "duration": 7,
        "start_time": "2021-09-27T17:30:18.312Z"
      },
      {
        "duration": 968087,
        "start_time": "2021-09-27T17:30:31.728Z"
      },
      {
        "duration": 30807,
        "start_time": "2021-09-27T17:47:19.933Z"
      },
      {
        "duration": 251,
        "start_time": "2021-09-27T17:51:57.961Z"
      },
      {
        "duration": 1785,
        "start_time": "2021-09-27T17:52:21.573Z"
      },
      {
        "duration": 3549,
        "start_time": "2021-09-27T17:52:23.365Z"
      },
      {
        "duration": 10,
        "start_time": "2021-09-27T17:52:26.917Z"
      },
      {
        "duration": 2001,
        "start_time": "2021-09-27T17:52:26.930Z"
      },
      {
        "duration": 160,
        "start_time": "2021-09-27T17:52:28.933Z"
      },
      {
        "duration": 6,
        "start_time": "2021-09-27T17:52:29.096Z"
      },
      {
        "duration": 315,
        "start_time": "2021-09-27T17:52:29.104Z"
      },
      {
        "duration": 6,
        "start_time": "2021-09-27T17:52:29.423Z"
      },
      {
        "duration": 4274,
        "start_time": "2021-09-27T17:52:29.432Z"
      },
      {
        "duration": 23188,
        "start_time": "2021-09-27T17:52:33.709Z"
      },
      {
        "duration": 22310,
        "start_time": "2021-09-27T17:52:56.899Z"
      },
      {
        "duration": 22711,
        "start_time": "2021-09-27T17:53:19.211Z"
      },
      {
        "duration": 77,
        "start_time": "2021-09-27T17:53:41.925Z"
      },
      {
        "duration": 345,
        "start_time": "2021-09-27T17:53:42.005Z"
      },
      {
        "duration": 119,
        "start_time": "2021-09-27T17:53:42.353Z"
      },
      {
        "duration": 239,
        "start_time": "2021-09-27T17:53:42.475Z"
      },
      {
        "duration": 333,
        "start_time": "2021-09-27T17:53:42.717Z"
      },
      {
        "duration": 5,
        "start_time": "2021-09-27T17:53:43.053Z"
      },
      {
        "duration": 832,
        "start_time": "2021-09-27T17:53:43.067Z"
      },
      {
        "duration": 3,
        "start_time": "2021-09-27T17:53:43.901Z"
      },
      {
        "duration": 138,
        "start_time": "2021-09-27T17:53:43.907Z"
      },
      {
        "duration": 104364,
        "start_time": "2021-09-27T17:53:44.047Z"
      },
      {
        "duration": 130,
        "start_time": "2021-09-27T17:55:28.417Z"
      },
      {
        "duration": 80,
        "start_time": "2021-09-27T17:55:28.550Z"
      },
      {
        "duration": 9,
        "start_time": "2021-09-27T17:55:28.632Z"
      },
      {
        "duration": 527,
        "start_time": "2021-09-27T17:55:28.643Z"
      },
      {
        "duration": 1839,
        "start_time": "2021-09-27T17:55:29.177Z"
      },
      {
        "duration": 48,
        "start_time": "2021-09-27T17:55:31.019Z"
      },
      {
        "duration": 4097,
        "start_time": "2021-09-27T17:55:31.071Z"
      },
      {
        "duration": 1109,
        "start_time": "2021-09-27T17:55:35.170Z"
      },
      {
        "duration": 211,
        "start_time": "2021-09-27T17:55:36.282Z"
      },
      {
        "duration": 279,
        "start_time": "2021-09-27T17:55:36.496Z"
      },
      {
        "duration": 168,
        "start_time": "2021-09-27T17:55:36.778Z"
      },
      {
        "duration": 12,
        "start_time": "2021-09-27T17:55:36.949Z"
      },
      {
        "duration": 66770,
        "start_time": "2021-09-27T17:55:36.967Z"
      },
      {
        "duration": 113392,
        "start_time": "2021-09-27T17:56:43.740Z"
      },
      {
        "duration": 3143,
        "start_time": "2021-09-27T17:58:37.134Z"
      },
      {
        "duration": 36689,
        "start_time": "2021-09-27T17:58:40.279Z"
      },
      {
        "duration": 2038,
        "start_time": "2021-09-27T17:59:16.973Z"
      },
      {
        "duration": -213,
        "start_time": "2021-09-27T17:59:19.226Z"
      },
      {
        "duration": -216,
        "start_time": "2021-09-27T17:59:19.231Z"
      },
      {
        "duration": -220,
        "start_time": "2021-09-27T17:59:19.236Z"
      },
      {
        "duration": -399,
        "start_time": "2021-09-27T17:59:19.416Z"
      },
      {
        "duration": -414,
        "start_time": "2021-09-27T17:59:19.433Z"
      },
      {
        "duration": -423,
        "start_time": "2021-09-27T17:59:19.444Z"
      },
      {
        "duration": -437,
        "start_time": "2021-09-27T17:59:19.460Z"
      },
      {
        "duration": -440,
        "start_time": "2021-09-27T17:59:19.464Z"
      },
      {
        "duration": -453,
        "start_time": "2021-09-27T17:59:19.478Z"
      },
      {
        "duration": -456,
        "start_time": "2021-09-27T17:59:19.483Z"
      },
      {
        "duration": 121906,
        "start_time": "2021-09-27T18:04:18.595Z"
      },
      {
        "duration": 1688,
        "start_time": "2021-09-27T18:07:35.630Z"
      },
      {
        "duration": 221,
        "start_time": "2021-09-27T18:07:50.622Z"
      },
      {
        "duration": 1415,
        "start_time": "2021-09-27T18:08:02.340Z"
      },
      {
        "duration": 988,
        "start_time": "2021-09-27T18:08:18.356Z"
      },
      {
        "duration": 360,
        "start_time": "2021-09-27T18:08:26.677Z"
      }
    ],
    "colab": {
      "name": "practicumNumericalMethods.ipynb",
      "provenance": [],
      "include_colab_link": true
    },
    "kernelspec": {
      "display_name": "Python 3",
      "language": "python",
      "name": "python3"
    },
    "language_info": {
      "codemirror_mode": {
        "name": "ipython",
        "version": 3
      },
      "file_extension": ".py",
      "mimetype": "text/x-python",
      "name": "python",
      "nbconvert_exporter": "python",
      "pygments_lexer": "ipython3",
      "version": "3.7.8"
    },
    "toc": {
      "base_numbering": 1,
      "nav_menu": {},
      "number_sections": true,
      "sideBar": true,
      "skip_h1_title": true,
      "title_cell": "Table of Contents",
      "title_sidebar": "Contents",
      "toc_cell": false,
      "toc_position": {},
      "toc_section_display": true,
      "toc_window_display": false
    }
  },
  "cells": [
    {
      "cell_type": "markdown",
      "metadata": {
        "id": "view-in-github",
        "colab_type": "text"
      },
      "source": [
        "<a href=\"https://colab.research.google.com/github/hibatallahk/CarsPredictionML_NumedicalMethods/blob/main/practicumNumericalMethods.ipynb\" target=\"_parent\"><img src=\"https://colab.research.google.com/assets/colab-badge.svg\" alt=\"Open In Colab\"/></a>"
      ]
    },
    {
      "cell_type": "markdown",
      "metadata": {
        "id": "9uCVhgPfA3I3"
      },
      "source": [
        "Hello, my name is Artem. I'm going to review your project!\n",
        "\n",
        "You can find my comments in <font color='green'>green</font>, <font color='blue'>blue</font> or <font color='red'>red</font> boxes like this:\n",
        "\n",
        "<div class=\"alert alert-block alert-success\">\n",
        "<b>Success:</b> if everything is done succesfully\n",
        "</div>\n",
        "\n",
        "<div class=\"alert alert-block alert-info\">\n",
        "<b>Improve: </b> \"Improve\" comments mean that there are tiny corrections that could help you to make your project better.\n",
        "</div>\n",
        "\n",
        "<div class=\"alert alert-block alert-danger\">\n",
        "<b>Needs fixing:</b> if the block requires some corrections. Work can't be accepted with the red comments.\n",
        "</div>\n",
        "\n",
        "### <font color='orange'>General feedback</font>\n",
        "* I'm glad to say that you executed your project really well.\n",
        "* Thank you for structuring the project. It's a pleasure to check such notebooks.\n",
        "* There are a few tiny corrections which could help you to make your project even better.\n",
        "* You've mastered internal method of categorical features encoding. Congratulations!\n",
        "* Nothing can stop you now. Good luck next!"
      ]
    },
    {
      "cell_type": "markdown",
      "metadata": {
        "id": "7-RFO3CDXQ5I"
      },
      "source": [
        "# Project description\n",
        "\n",
        "Rusty Bargain used car sales service is developing an app to attract new customers. In that app, you can quickly find out the market value of your car. You have access to historical data: technical specifications, trim versions, and prices. You need to build the model to determine the value. \n",
        "\n",
        "Rusty Bargain is interested in:\n",
        "\n",
        "- the quality of the prediction;\n",
        "- the speed of the prediction;\n",
        "- the time required for training"
      ]
    },
    {
      "cell_type": "markdown",
      "metadata": {
        "id": "D2Ymhr2eXvLS"
      },
      "source": [
        "# Data description\n",
        "\n"
      ]
    },
    {
      "cell_type": "markdown",
      "metadata": {
        "id": "MrT7wfIOXyog"
      },
      "source": [
        "**Features**\n",
        "\n",
        "- DateCrawled — date profile was downloaded from the database\n",
        "- VehicleType — vehicle body type\n",
        "- RegistrationYear — vehicle registration year\n",
        "- Gearbox — gearbox type\n",
        "- Power — power (hp)\n",
        "- Model — vehicle model\n",
        "- Mileage — mileage (measured in km due to dataset's regional specifics)\n",
        "- RegistrationMonth — vehicle registration month\n",
        "- FuelType — fuel type\n",
        "- Brand — vehicle brand\n",
        "- NotRepaired — vehicle repaired or not\n",
        "- DateCreated — date of profile creation\n",
        "- NumberOfPictures — number of vehicle pictures\n",
        "- PostalCode — postal code of profile owner (user)\n",
        "- LastSeen — date of the last activity of the user\n",
        "\n",
        "**Target**\n",
        "\n",
        "Price — price (Euro)"
      ]
    },
    {
      "cell_type": "markdown",
      "metadata": {
        "id": "v8-Q1fyuX9ow"
      },
      "source": [
        "# Goal of the project\n",
        "\n",
        "The main goal of this project is to predict the price of used cars, and analyse the quality and the speed of the prediction, and the time required for training."
      ]
    },
    {
      "cell_type": "markdown",
      "metadata": {
        "id": "57-V3SQsYDIQ"
      },
      "source": [
        "# Table of Content\n",
        "\n",
        "<div> \n",
        "    <ol>\n",
        "      <li><a href=\"#1\"> Data downloading</a></li>\n",
        "      <li><a href=\"#2\"> Data preparation</a></li>\n",
        "      <li><a href=\"#3\"> Exploratory Data Analysis</a></li> \n",
        "      <li><a href=\"#4\">Model training</a></li>\n",
        "      <li><a href=\"#5\">Model analysis</a></li>\n",
        "      <li><a href=\"#6\">Overall conclusion</a></li>\n",
        "    </ol> \n",
        "</div>"
      ]
    },
    {
      "cell_type": "markdown",
      "metadata": {
        "id": "Oivi8ImXYLeu"
      },
      "source": [
        "# <a id=\"1\"> Data downloading"
      ]
    },
    {
      "cell_type": "code",
      "metadata": {
        "colab": {
          "base_uri": "https://localhost:8080/"
        },
        "id": "gKyQM3K6XRrB",
        "outputId": "2130588f-3069-4068-bd01-f22df77eac27"
      },
      "source": [
        "!pip3 install CatBoost"
      ],
      "execution_count": null,
      "outputs": [
        {
          "name": "stdout",
          "output_type": "stream",
          "text": [
            "Requirement already satisfied: CatBoost in /usr/local/lib/python3.7/dist-packages (0.26.1)\n",
            "Requirement already satisfied: numpy>=1.16.0 in /usr/local/lib/python3.7/dist-packages (from CatBoost) (1.19.5)\n",
            "Requirement already satisfied: plotly in /usr/local/lib/python3.7/dist-packages (from CatBoost) (4.4.1)\n",
            "Requirement already satisfied: scipy in /usr/local/lib/python3.7/dist-packages (from CatBoost) (1.4.1)\n",
            "Requirement already satisfied: pandas>=0.24.0 in /usr/local/lib/python3.7/dist-packages (from CatBoost) (1.1.5)\n",
            "Requirement already satisfied: graphviz in /usr/local/lib/python3.7/dist-packages (from CatBoost) (0.10.1)\n",
            "Requirement already satisfied: matplotlib in /usr/local/lib/python3.7/dist-packages (from CatBoost) (3.2.2)\n",
            "Requirement already satisfied: six in /usr/local/lib/python3.7/dist-packages (from CatBoost) (1.15.0)\n",
            "Requirement already satisfied: python-dateutil>=2.7.3 in /usr/local/lib/python3.7/dist-packages (from pandas>=0.24.0->CatBoost) (2.8.2)\n",
            "Requirement already satisfied: pytz>=2017.2 in /usr/local/lib/python3.7/dist-packages (from pandas>=0.24.0->CatBoost) (2018.9)\n",
            "Requirement already satisfied: cycler>=0.10 in /usr/local/lib/python3.7/dist-packages (from matplotlib->CatBoost) (0.10.0)\n",
            "Requirement already satisfied: kiwisolver>=1.0.1 in /usr/local/lib/python3.7/dist-packages (from matplotlib->CatBoost) (1.3.2)\n",
            "Requirement already satisfied: pyparsing!=2.0.4,!=2.1.2,!=2.1.6,>=2.0.1 in /usr/local/lib/python3.7/dist-packages (from matplotlib->CatBoost) (2.4.7)\n",
            "Requirement already satisfied: retrying>=1.3.3 in /usr/local/lib/python3.7/dist-packages (from plotly->CatBoost) (1.3.3)\n"
          ]
        }
      ]
    },
    {
      "cell_type": "code",
      "metadata": {
        "colab": {
          "base_uri": "https://localhost:8080/"
        },
        "id": "ag1XtOVNKs06",
        "outputId": "333732c2-5c60-402a-f55d-688257d3c810"
      },
      "source": [
        "# import pandas and numpy for data preprocessing and manipulation\n",
        "import numpy as np\n",
        "import pandas as pd\n",
        "from pandas.api.types import is_string_dtype\n",
        "from pandas.api.types import is_numeric_dtype\n",
        "import random\n",
        "\n",
        "# import time for time computation\n",
        "import time\n",
        "\n",
        "# matplotlib and seaborn for visualization\n",
        "import matplotlib.pyplot as plt\n",
        "import seaborn as sns\n",
        "%matplotlib inline\n",
        "\n",
        "# import module for splitting and cross-validation using gridsearch\n",
        "from sklearn.model_selection import train_test_split, GridSearchCV\n",
        "\n",
        "# import metric to measure quality of model\n",
        "from sklearn.metrics import mean_squared_error\n",
        "\n",
        "# import modules for preprocessing\n",
        "from sklearn.preprocessing import OrdinalEncoder\n",
        "from sklearn.preprocessing import OneHotEncoder\n",
        "from sklearn.preprocessing import StandardScaler\n",
        "pd.options.mode.chained_assignment = None # to avoid SettingWithCopyWarning after scaling\n",
        "\n",
        "# import machine learning models\n",
        "from sklearn.linear_model import LinearRegression # import linear regression algorithm\n",
        "from sklearn.ensemble import RandomForestRegressor # import random forest algorithm\n",
        "from catboost import CatBoostRegressor, Pool # import catboost regressor\n",
        "from lightgbm import LGBMRegressor # import lightgbm regressor\n",
        "from xgboost import XGBRegressor # import xgboost regressor\n",
        "\n",
        "from IPython.display import display\n",
        "\n",
        "print('Libraries imported successfully!')"
      ],
      "execution_count": null,
      "outputs": [
        {
          "name": "stdout",
          "output_type": "stream",
          "text": [
            "Libraries imported successfully!\n"
          ]
        }
      ]
    },
    {
      "cell_type": "markdown",
      "metadata": {
        "id": "qX8kdLGQA3JG"
      },
      "source": [
        "<div class=\"alert alert-block alert-success\">\n",
        "<b>Success:</b> Thank you for collecting all imports in the first cell!\n",
        "</div>"
      ]
    },
    {
      "cell_type": "code",
      "metadata": {
        "id": "KB1CLJFgKgQG"
      },
      "source": [
        "# read the data\n",
        "df = pd.read_csv('https://code.s3.yandex.net/datasets/car_data.csv')"
      ],
      "execution_count": null,
      "outputs": []
    },
    {
      "cell_type": "code",
      "metadata": {
        "id": "zvwHwP7UKgQH"
      },
      "source": [
        "# function to determine if columns in file have null values\n",
        "def get_percent_of_na(df, num):\n",
        "    count = 0\n",
        "    df = df.copy()\n",
        "    s = (df.isna().sum() / df.shape[0])\n",
        "    for column, percent in zip(s.index, s.values):\n",
        "        num_of_nulls = df[column].isna().sum()\n",
        "        if num_of_nulls == 0:\n",
        "            continue\n",
        "        else:\n",
        "            count += 1\n",
        "        print('Column {} has {:.{}%} percent of Nulls, and {} of nulls'.format(column, percent, num, num_of_nulls))\n",
        "    if count != 0:\n",
        "        print(\"\\033[1m\" + 'There are {} columns with NA.'.format(count) + \"\\033[0m\")\n",
        "    else:\n",
        "        print()\n",
        "        print(\"\\033[1m\" + 'There are no columns with NA.' + \"\\033[0m\")\n",
        "        \n",
        "# function to display general information about the dataset\n",
        "def get_info(df):\n",
        "    \"\"\"\n",
        "    This function uses the head(), info(), describe(), shape() and duplicated() \n",
        "    methods to display the general information about the dataset.\n",
        "    \"\"\"\n",
        "    print(\"\\033[1m\" + '-'*100 + \"\\033[0m\")\n",
        "    print('Head:')\n",
        "    print()\n",
        "    display(df.head())\n",
        "    print('-'*100)\n",
        "    print('Info:')\n",
        "    print()\n",
        "    display(df.info())\n",
        "    print('-'*100)\n",
        "    print('Describe:')\n",
        "    print()\n",
        "    display(df.describe())\n",
        "    print('-'*100)\n",
        "    display(df.describe(include='object'))\n",
        "    print()\n",
        "    print('Columns with nulls:')\n",
        "    display(get_percent_of_na(df, 4))  # check this out\n",
        "    print('-'*100)\n",
        "    print('Shape:')\n",
        "    print(df.shape)\n",
        "    print('-'*100)\n",
        "    print('Duplicated:')\n",
        "    print(\"\\033[1m\" + 'We have {} duplicated rows.\\n'.format(df.duplicated().sum()) + \"\\033[0m\")\n",
        "    print()"
      ],
      "execution_count": null,
      "outputs": []
    },
    {
      "cell_type": "code",
      "metadata": {
        "colab": {
          "base_uri": "https://localhost:8080/",
          "height": 1000
        },
        "id": "UumgXHQlKgQJ",
        "outputId": "3b028b8a-6fa0-4c40-a0ec-c52775fd6055"
      },
      "source": [
        "# study the general information about the dataset \n",
        "print('General information about the dataframe')\n",
        "get_info(df)"
      ],
      "execution_count": null,
      "outputs": [
        {
          "name": "stdout",
          "output_type": "stream",
          "text": [
            "General information about the dataframe\n",
            "\u001b[1m----------------------------------------------------------------------------------------------------\u001b[0m\n",
            "Head:\n",
            "\n"
          ]
        },
        {
          "data": {
            "text/html": [
              "<div>\n",
              "<style scoped>\n",
              "    .dataframe tbody tr th:only-of-type {\n",
              "        vertical-align: middle;\n",
              "    }\n",
              "\n",
              "    .dataframe tbody tr th {\n",
              "        vertical-align: top;\n",
              "    }\n",
              "\n",
              "    .dataframe thead th {\n",
              "        text-align: right;\n",
              "    }\n",
              "</style>\n",
              "<table border=\"1\" class=\"dataframe\">\n",
              "  <thead>\n",
              "    <tr style=\"text-align: right;\">\n",
              "      <th></th>\n",
              "      <th>DateCrawled</th>\n",
              "      <th>Price</th>\n",
              "      <th>VehicleType</th>\n",
              "      <th>RegistrationYear</th>\n",
              "      <th>Gearbox</th>\n",
              "      <th>Power</th>\n",
              "      <th>Model</th>\n",
              "      <th>Mileage</th>\n",
              "      <th>RegistrationMonth</th>\n",
              "      <th>FuelType</th>\n",
              "      <th>Brand</th>\n",
              "      <th>NotRepaired</th>\n",
              "      <th>DateCreated</th>\n",
              "      <th>NumberOfPictures</th>\n",
              "      <th>PostalCode</th>\n",
              "      <th>LastSeen</th>\n",
              "    </tr>\n",
              "  </thead>\n",
              "  <tbody>\n",
              "    <tr>\n",
              "      <th>0</th>\n",
              "      <td>24/03/2016 11:52</td>\n",
              "      <td>480</td>\n",
              "      <td>NaN</td>\n",
              "      <td>1993</td>\n",
              "      <td>manual</td>\n",
              "      <td>0</td>\n",
              "      <td>golf</td>\n",
              "      <td>150000</td>\n",
              "      <td>0</td>\n",
              "      <td>petrol</td>\n",
              "      <td>volkswagen</td>\n",
              "      <td>NaN</td>\n",
              "      <td>24/03/2016 00:00</td>\n",
              "      <td>0</td>\n",
              "      <td>70435</td>\n",
              "      <td>07/04/2016 03:16</td>\n",
              "    </tr>\n",
              "    <tr>\n",
              "      <th>1</th>\n",
              "      <td>24/03/2016 10:58</td>\n",
              "      <td>18300</td>\n",
              "      <td>coupe</td>\n",
              "      <td>2011</td>\n",
              "      <td>manual</td>\n",
              "      <td>190</td>\n",
              "      <td>NaN</td>\n",
              "      <td>125000</td>\n",
              "      <td>5</td>\n",
              "      <td>gasoline</td>\n",
              "      <td>audi</td>\n",
              "      <td>yes</td>\n",
              "      <td>24/03/2016 00:00</td>\n",
              "      <td>0</td>\n",
              "      <td>66954</td>\n",
              "      <td>07/04/2016 01:46</td>\n",
              "    </tr>\n",
              "    <tr>\n",
              "      <th>2</th>\n",
              "      <td>14/03/2016 12:52</td>\n",
              "      <td>9800</td>\n",
              "      <td>suv</td>\n",
              "      <td>2004</td>\n",
              "      <td>auto</td>\n",
              "      <td>163</td>\n",
              "      <td>grand</td>\n",
              "      <td>125000</td>\n",
              "      <td>8</td>\n",
              "      <td>gasoline</td>\n",
              "      <td>jeep</td>\n",
              "      <td>NaN</td>\n",
              "      <td>14/03/2016 00:00</td>\n",
              "      <td>0</td>\n",
              "      <td>90480</td>\n",
              "      <td>05/04/2016 12:47</td>\n",
              "    </tr>\n",
              "    <tr>\n",
              "      <th>3</th>\n",
              "      <td>17/03/2016 16:54</td>\n",
              "      <td>1500</td>\n",
              "      <td>small</td>\n",
              "      <td>2001</td>\n",
              "      <td>manual</td>\n",
              "      <td>75</td>\n",
              "      <td>golf</td>\n",
              "      <td>150000</td>\n",
              "      <td>6</td>\n",
              "      <td>petrol</td>\n",
              "      <td>volkswagen</td>\n",
              "      <td>no</td>\n",
              "      <td>17/03/2016 00:00</td>\n",
              "      <td>0</td>\n",
              "      <td>91074</td>\n",
              "      <td>17/03/2016 17:40</td>\n",
              "    </tr>\n",
              "    <tr>\n",
              "      <th>4</th>\n",
              "      <td>31/03/2016 17:25</td>\n",
              "      <td>3600</td>\n",
              "      <td>small</td>\n",
              "      <td>2008</td>\n",
              "      <td>manual</td>\n",
              "      <td>69</td>\n",
              "      <td>fabia</td>\n",
              "      <td>90000</td>\n",
              "      <td>7</td>\n",
              "      <td>gasoline</td>\n",
              "      <td>skoda</td>\n",
              "      <td>no</td>\n",
              "      <td>31/03/2016 00:00</td>\n",
              "      <td>0</td>\n",
              "      <td>60437</td>\n",
              "      <td>06/04/2016 10:17</td>\n",
              "    </tr>\n",
              "  </tbody>\n",
              "</table>\n",
              "</div>"
            ],
            "text/plain": [
              "        DateCrawled  Price  ... PostalCode          LastSeen\n",
              "0  24/03/2016 11:52    480  ...      70435  07/04/2016 03:16\n",
              "1  24/03/2016 10:58  18300  ...      66954  07/04/2016 01:46\n",
              "2  14/03/2016 12:52   9800  ...      90480  05/04/2016 12:47\n",
              "3  17/03/2016 16:54   1500  ...      91074  17/03/2016 17:40\n",
              "4  31/03/2016 17:25   3600  ...      60437  06/04/2016 10:17\n",
              "\n",
              "[5 rows x 16 columns]"
            ]
          },
          "metadata": {},
          "output_type": "display_data"
        },
        {
          "name": "stdout",
          "output_type": "stream",
          "text": [
            "----------------------------------------------------------------------------------------------------\n",
            "Info:\n",
            "\n",
            "<class 'pandas.core.frame.DataFrame'>\n",
            "RangeIndex: 354369 entries, 0 to 354368\n",
            "Data columns (total 16 columns):\n",
            " #   Column             Non-Null Count   Dtype \n",
            "---  ------             --------------   ----- \n",
            " 0   DateCrawled        354369 non-null  object\n",
            " 1   Price              354369 non-null  int64 \n",
            " 2   VehicleType        316879 non-null  object\n",
            " 3   RegistrationYear   354369 non-null  int64 \n",
            " 4   Gearbox            334536 non-null  object\n",
            " 5   Power              354369 non-null  int64 \n",
            " 6   Model              334664 non-null  object\n",
            " 7   Mileage            354369 non-null  int64 \n",
            " 8   RegistrationMonth  354369 non-null  int64 \n",
            " 9   FuelType           321474 non-null  object\n",
            " 10  Brand              354369 non-null  object\n",
            " 11  NotRepaired        283215 non-null  object\n",
            " 12  DateCreated        354369 non-null  object\n",
            " 13  NumberOfPictures   354369 non-null  int64 \n",
            " 14  PostalCode         354369 non-null  int64 \n",
            " 15  LastSeen           354369 non-null  object\n",
            "dtypes: int64(7), object(9)\n",
            "memory usage: 43.3+ MB\n"
          ]
        },
        {
          "data": {
            "text/plain": [
              "None"
            ]
          },
          "metadata": {},
          "output_type": "display_data"
        },
        {
          "name": "stdout",
          "output_type": "stream",
          "text": [
            "----------------------------------------------------------------------------------------------------\n",
            "Describe:\n",
            "\n"
          ]
        },
        {
          "data": {
            "text/html": [
              "<div>\n",
              "<style scoped>\n",
              "    .dataframe tbody tr th:only-of-type {\n",
              "        vertical-align: middle;\n",
              "    }\n",
              "\n",
              "    .dataframe tbody tr th {\n",
              "        vertical-align: top;\n",
              "    }\n",
              "\n",
              "    .dataframe thead th {\n",
              "        text-align: right;\n",
              "    }\n",
              "</style>\n",
              "<table border=\"1\" class=\"dataframe\">\n",
              "  <thead>\n",
              "    <tr style=\"text-align: right;\">\n",
              "      <th></th>\n",
              "      <th>Price</th>\n",
              "      <th>RegistrationYear</th>\n",
              "      <th>Power</th>\n",
              "      <th>Mileage</th>\n",
              "      <th>RegistrationMonth</th>\n",
              "      <th>NumberOfPictures</th>\n",
              "      <th>PostalCode</th>\n",
              "    </tr>\n",
              "  </thead>\n",
              "  <tbody>\n",
              "    <tr>\n",
              "      <th>count</th>\n",
              "      <td>354369.000000</td>\n",
              "      <td>354369.000000</td>\n",
              "      <td>354369.000000</td>\n",
              "      <td>354369.000000</td>\n",
              "      <td>354369.000000</td>\n",
              "      <td>354369.0</td>\n",
              "      <td>354369.000000</td>\n",
              "    </tr>\n",
              "    <tr>\n",
              "      <th>mean</th>\n",
              "      <td>4416.656776</td>\n",
              "      <td>2004.234448</td>\n",
              "      <td>110.094337</td>\n",
              "      <td>128211.172535</td>\n",
              "      <td>5.714645</td>\n",
              "      <td>0.0</td>\n",
              "      <td>50508.689087</td>\n",
              "    </tr>\n",
              "    <tr>\n",
              "      <th>std</th>\n",
              "      <td>4514.158514</td>\n",
              "      <td>90.227958</td>\n",
              "      <td>189.850405</td>\n",
              "      <td>37905.341530</td>\n",
              "      <td>3.726421</td>\n",
              "      <td>0.0</td>\n",
              "      <td>25783.096248</td>\n",
              "    </tr>\n",
              "    <tr>\n",
              "      <th>min</th>\n",
              "      <td>0.000000</td>\n",
              "      <td>1000.000000</td>\n",
              "      <td>0.000000</td>\n",
              "      <td>5000.000000</td>\n",
              "      <td>0.000000</td>\n",
              "      <td>0.0</td>\n",
              "      <td>1067.000000</td>\n",
              "    </tr>\n",
              "    <tr>\n",
              "      <th>25%</th>\n",
              "      <td>1050.000000</td>\n",
              "      <td>1999.000000</td>\n",
              "      <td>69.000000</td>\n",
              "      <td>125000.000000</td>\n",
              "      <td>3.000000</td>\n",
              "      <td>0.0</td>\n",
              "      <td>30165.000000</td>\n",
              "    </tr>\n",
              "    <tr>\n",
              "      <th>50%</th>\n",
              "      <td>2700.000000</td>\n",
              "      <td>2003.000000</td>\n",
              "      <td>105.000000</td>\n",
              "      <td>150000.000000</td>\n",
              "      <td>6.000000</td>\n",
              "      <td>0.0</td>\n",
              "      <td>49413.000000</td>\n",
              "    </tr>\n",
              "    <tr>\n",
              "      <th>75%</th>\n",
              "      <td>6400.000000</td>\n",
              "      <td>2008.000000</td>\n",
              "      <td>143.000000</td>\n",
              "      <td>150000.000000</td>\n",
              "      <td>9.000000</td>\n",
              "      <td>0.0</td>\n",
              "      <td>71083.000000</td>\n",
              "    </tr>\n",
              "    <tr>\n",
              "      <th>max</th>\n",
              "      <td>20000.000000</td>\n",
              "      <td>9999.000000</td>\n",
              "      <td>20000.000000</td>\n",
              "      <td>150000.000000</td>\n",
              "      <td>12.000000</td>\n",
              "      <td>0.0</td>\n",
              "      <td>99998.000000</td>\n",
              "    </tr>\n",
              "  </tbody>\n",
              "</table>\n",
              "</div>"
            ],
            "text/plain": [
              "               Price  RegistrationYear  ...  NumberOfPictures     PostalCode\n",
              "count  354369.000000     354369.000000  ...          354369.0  354369.000000\n",
              "mean     4416.656776       2004.234448  ...               0.0   50508.689087\n",
              "std      4514.158514         90.227958  ...               0.0   25783.096248\n",
              "min         0.000000       1000.000000  ...               0.0    1067.000000\n",
              "25%      1050.000000       1999.000000  ...               0.0   30165.000000\n",
              "50%      2700.000000       2003.000000  ...               0.0   49413.000000\n",
              "75%      6400.000000       2008.000000  ...               0.0   71083.000000\n",
              "max     20000.000000       9999.000000  ...               0.0   99998.000000\n",
              "\n",
              "[8 rows x 7 columns]"
            ]
          },
          "metadata": {},
          "output_type": "display_data"
        },
        {
          "name": "stdout",
          "output_type": "stream",
          "text": [
            "----------------------------------------------------------------------------------------------------\n"
          ]
        },
        {
          "data": {
            "text/html": [
              "<div>\n",
              "<style scoped>\n",
              "    .dataframe tbody tr th:only-of-type {\n",
              "        vertical-align: middle;\n",
              "    }\n",
              "\n",
              "    .dataframe tbody tr th {\n",
              "        vertical-align: top;\n",
              "    }\n",
              "\n",
              "    .dataframe thead th {\n",
              "        text-align: right;\n",
              "    }\n",
              "</style>\n",
              "<table border=\"1\" class=\"dataframe\">\n",
              "  <thead>\n",
              "    <tr style=\"text-align: right;\">\n",
              "      <th></th>\n",
              "      <th>DateCrawled</th>\n",
              "      <th>VehicleType</th>\n",
              "      <th>Gearbox</th>\n",
              "      <th>Model</th>\n",
              "      <th>FuelType</th>\n",
              "      <th>Brand</th>\n",
              "      <th>NotRepaired</th>\n",
              "      <th>DateCreated</th>\n",
              "      <th>LastSeen</th>\n",
              "    </tr>\n",
              "  </thead>\n",
              "  <tbody>\n",
              "    <tr>\n",
              "      <th>count</th>\n",
              "      <td>354369</td>\n",
              "      <td>316879</td>\n",
              "      <td>334536</td>\n",
              "      <td>334664</td>\n",
              "      <td>321474</td>\n",
              "      <td>354369</td>\n",
              "      <td>283215</td>\n",
              "      <td>354369</td>\n",
              "      <td>354369</td>\n",
              "    </tr>\n",
              "    <tr>\n",
              "      <th>unique</th>\n",
              "      <td>15470</td>\n",
              "      <td>8</td>\n",
              "      <td>2</td>\n",
              "      <td>250</td>\n",
              "      <td>7</td>\n",
              "      <td>40</td>\n",
              "      <td>2</td>\n",
              "      <td>109</td>\n",
              "      <td>18592</td>\n",
              "    </tr>\n",
              "    <tr>\n",
              "      <th>top</th>\n",
              "      <td>05/03/2016 14:25</td>\n",
              "      <td>sedan</td>\n",
              "      <td>manual</td>\n",
              "      <td>golf</td>\n",
              "      <td>petrol</td>\n",
              "      <td>volkswagen</td>\n",
              "      <td>no</td>\n",
              "      <td>03/04/2016 00:00</td>\n",
              "      <td>07/04/2016 07:16</td>\n",
              "    </tr>\n",
              "    <tr>\n",
              "      <th>freq</th>\n",
              "      <td>66</td>\n",
              "      <td>91457</td>\n",
              "      <td>268251</td>\n",
              "      <td>29232</td>\n",
              "      <td>216352</td>\n",
              "      <td>77013</td>\n",
              "      <td>247161</td>\n",
              "      <td>13719</td>\n",
              "      <td>654</td>\n",
              "    </tr>\n",
              "  </tbody>\n",
              "</table>\n",
              "</div>"
            ],
            "text/plain": [
              "             DateCrawled VehicleType  ...       DateCreated          LastSeen\n",
              "count             354369      316879  ...            354369            354369\n",
              "unique             15470           8  ...               109             18592\n",
              "top     05/03/2016 14:25       sedan  ...  03/04/2016 00:00  07/04/2016 07:16\n",
              "freq                  66       91457  ...             13719               654\n",
              "\n",
              "[4 rows x 9 columns]"
            ]
          },
          "metadata": {},
          "output_type": "display_data"
        },
        {
          "name": "stdout",
          "output_type": "stream",
          "text": [
            "\n",
            "Columns with nulls:\n",
            "Column VehicleType has 10.5794% percent of Nulls, and 37490 of nulls\n",
            "Column Gearbox has 5.5967% percent of Nulls, and 19833 of nulls\n",
            "Column Model has 5.5606% percent of Nulls, and 19705 of nulls\n",
            "Column FuelType has 9.2827% percent of Nulls, and 32895 of nulls\n",
            "Column NotRepaired has 20.0791% percent of Nulls, and 71154 of nulls\n",
            "\u001b[1mThere are 5 columns with NA.\u001b[0m\n"
          ]
        },
        {
          "data": {
            "text/plain": [
              "None"
            ]
          },
          "metadata": {},
          "output_type": "display_data"
        },
        {
          "name": "stdout",
          "output_type": "stream",
          "text": [
            "----------------------------------------------------------------------------------------------------\n",
            "Shape:\n",
            "(354369, 16)\n",
            "----------------------------------------------------------------------------------------------------\n",
            "Duplicated:\n",
            "\u001b[1mWe have 262 duplicated rows.\n",
            "\u001b[0m\n",
            "\n"
          ]
        }
      ]
    },
    {
      "cell_type": "markdown",
      "metadata": {
        "id": "PnmOb-1NY8Dm"
      },
      "source": [
        "**Conclusion**\n",
        "- We see here that our data contains 354,369 rows and 16 columns\n",
        "- 5 columns with missing values\n",
        "- 262 duplicated rows"
      ]
    },
    {
      "cell_type": "markdown",
      "metadata": {
        "id": "6ux1I9VkA3JZ"
      },
      "source": [
        "<div class=\"alert alert-block alert-success\">\n",
        "<b>Success:</b> Data loading and initial analysis were done well.\n",
        "</div>"
      ]
    },
    {
      "cell_type": "markdown",
      "metadata": {
        "id": "-rvNV2dgY2o0"
      },
      "source": [
        "# <a id=\"2\"> Data Preparation"
      ]
    },
    {
      "cell_type": "markdown",
      "metadata": {
        "id": "E2zHh_1nY4Lj"
      },
      "source": [
        "## Renaming columns\n"
      ]
    },
    {
      "cell_type": "code",
      "metadata": {
        "id": "tELrstE3KgQK"
      },
      "source": [
        "df = df.rename(columns={'DateCrawled': 'date_crawled', 'Price': 'price', 'VehicleType': 'vehicle_type', 'RegistrationYear': 'registration_year', 'Gearbox': 'gearbox',\n",
        "       'Power': 'power', 'Model': 'model', 'Mileage': 'mileage', 'RegistrationMonth': 'registration_month', 'FuelType': 'fuel_type', 'Brand': 'brand',\n",
        "       'NotRepaired': 'not_repaired', 'DateCreated': 'date_created', 'NumberOfPictures': 'number_of_pictures', 'PostalCode': 'postal_code', 'LastSeen': 'last_seen'})"
      ],
      "execution_count": null,
      "outputs": []
    },
    {
      "cell_type": "code",
      "metadata": {
        "colab": {
          "base_uri": "https://localhost:8080/",
          "height": 313
        },
        "id": "cieTTCNKZFba",
        "outputId": "831e23f2-aa1a-408a-9667-645efc7e62fa"
      },
      "source": [
        "df.head()"
      ],
      "execution_count": null,
      "outputs": [
        {
          "data": {
            "text/html": [
              "<div>\n",
              "<style scoped>\n",
              "    .dataframe tbody tr th:only-of-type {\n",
              "        vertical-align: middle;\n",
              "    }\n",
              "\n",
              "    .dataframe tbody tr th {\n",
              "        vertical-align: top;\n",
              "    }\n",
              "\n",
              "    .dataframe thead th {\n",
              "        text-align: right;\n",
              "    }\n",
              "</style>\n",
              "<table border=\"1\" class=\"dataframe\">\n",
              "  <thead>\n",
              "    <tr style=\"text-align: right;\">\n",
              "      <th></th>\n",
              "      <th>date_crawled</th>\n",
              "      <th>price</th>\n",
              "      <th>vehicle_type</th>\n",
              "      <th>registration_year</th>\n",
              "      <th>gearbox</th>\n",
              "      <th>power</th>\n",
              "      <th>model</th>\n",
              "      <th>mileage</th>\n",
              "      <th>registration_month</th>\n",
              "      <th>fuel_type</th>\n",
              "      <th>brand</th>\n",
              "      <th>not_repaired</th>\n",
              "      <th>date_created</th>\n",
              "      <th>number_of_pictures</th>\n",
              "      <th>postal_code</th>\n",
              "      <th>last_seen</th>\n",
              "    </tr>\n",
              "  </thead>\n",
              "  <tbody>\n",
              "    <tr>\n",
              "      <th>0</th>\n",
              "      <td>24/03/2016 11:52</td>\n",
              "      <td>480</td>\n",
              "      <td>NaN</td>\n",
              "      <td>1993</td>\n",
              "      <td>manual</td>\n",
              "      <td>0</td>\n",
              "      <td>golf</td>\n",
              "      <td>150000</td>\n",
              "      <td>0</td>\n",
              "      <td>petrol</td>\n",
              "      <td>volkswagen</td>\n",
              "      <td>NaN</td>\n",
              "      <td>24/03/2016 00:00</td>\n",
              "      <td>0</td>\n",
              "      <td>70435</td>\n",
              "      <td>07/04/2016 03:16</td>\n",
              "    </tr>\n",
              "    <tr>\n",
              "      <th>1</th>\n",
              "      <td>24/03/2016 10:58</td>\n",
              "      <td>18300</td>\n",
              "      <td>coupe</td>\n",
              "      <td>2011</td>\n",
              "      <td>manual</td>\n",
              "      <td>190</td>\n",
              "      <td>NaN</td>\n",
              "      <td>125000</td>\n",
              "      <td>5</td>\n",
              "      <td>gasoline</td>\n",
              "      <td>audi</td>\n",
              "      <td>yes</td>\n",
              "      <td>24/03/2016 00:00</td>\n",
              "      <td>0</td>\n",
              "      <td>66954</td>\n",
              "      <td>07/04/2016 01:46</td>\n",
              "    </tr>\n",
              "    <tr>\n",
              "      <th>2</th>\n",
              "      <td>14/03/2016 12:52</td>\n",
              "      <td>9800</td>\n",
              "      <td>suv</td>\n",
              "      <td>2004</td>\n",
              "      <td>auto</td>\n",
              "      <td>163</td>\n",
              "      <td>grand</td>\n",
              "      <td>125000</td>\n",
              "      <td>8</td>\n",
              "      <td>gasoline</td>\n",
              "      <td>jeep</td>\n",
              "      <td>NaN</td>\n",
              "      <td>14/03/2016 00:00</td>\n",
              "      <td>0</td>\n",
              "      <td>90480</td>\n",
              "      <td>05/04/2016 12:47</td>\n",
              "    </tr>\n",
              "    <tr>\n",
              "      <th>3</th>\n",
              "      <td>17/03/2016 16:54</td>\n",
              "      <td>1500</td>\n",
              "      <td>small</td>\n",
              "      <td>2001</td>\n",
              "      <td>manual</td>\n",
              "      <td>75</td>\n",
              "      <td>golf</td>\n",
              "      <td>150000</td>\n",
              "      <td>6</td>\n",
              "      <td>petrol</td>\n",
              "      <td>volkswagen</td>\n",
              "      <td>no</td>\n",
              "      <td>17/03/2016 00:00</td>\n",
              "      <td>0</td>\n",
              "      <td>91074</td>\n",
              "      <td>17/03/2016 17:40</td>\n",
              "    </tr>\n",
              "    <tr>\n",
              "      <th>4</th>\n",
              "      <td>31/03/2016 17:25</td>\n",
              "      <td>3600</td>\n",
              "      <td>small</td>\n",
              "      <td>2008</td>\n",
              "      <td>manual</td>\n",
              "      <td>69</td>\n",
              "      <td>fabia</td>\n",
              "      <td>90000</td>\n",
              "      <td>7</td>\n",
              "      <td>gasoline</td>\n",
              "      <td>skoda</td>\n",
              "      <td>no</td>\n",
              "      <td>31/03/2016 00:00</td>\n",
              "      <td>0</td>\n",
              "      <td>60437</td>\n",
              "      <td>06/04/2016 10:17</td>\n",
              "    </tr>\n",
              "  </tbody>\n",
              "</table>\n",
              "</div>"
            ],
            "text/plain": [
              "       date_crawled  price  ... postal_code         last_seen\n",
              "0  24/03/2016 11:52    480  ...       70435  07/04/2016 03:16\n",
              "1  24/03/2016 10:58  18300  ...       66954  07/04/2016 01:46\n",
              "2  14/03/2016 12:52   9800  ...       90480  05/04/2016 12:47\n",
              "3  17/03/2016 16:54   1500  ...       91074  17/03/2016 17:40\n",
              "4  31/03/2016 17:25   3600  ...       60437  06/04/2016 10:17\n",
              "\n",
              "[5 rows x 16 columns]"
            ]
          },
          "execution_count": 7,
          "metadata": {},
          "output_type": "execute_result"
        }
      ]
    },
    {
      "cell_type": "markdown",
      "metadata": {
        "id": "zC0YKcvhZKqt"
      },
      "source": [
        "## Handling NAs"
      ]
    },
    {
      "cell_type": "markdown",
      "metadata": {
        "id": "h3sg6dnBZL6L"
      },
      "source": [
        "**Missing Values**"
      ]
    },
    {
      "cell_type": "code",
      "metadata": {
        "id": "y3AFL8ErKgQL"
      },
      "source": [
        "def missing_values_table(df):\n",
        "        mis_val = df.isnull().sum()\n",
        "        \n",
        "        # percentage of missing values\n",
        "        mis_val_percent = 100 * df.isnull().sum() / len(df)\n",
        "        \n",
        "        # table with the results\n",
        "        mis_val_table = pd.concat([mis_val, mis_val_percent], axis=1)\n",
        "        \n",
        "        mis_val_table_ren_columns = mis_val_table.rename(\n",
        "        columns = {0 : 'Missing Values', 1 : '% of Total Values'})\n",
        "        \n",
        "        # Sort the table by percentage of missing descending\n",
        "        mis_val_table_ren_columns = mis_val_table_ren_columns[\n",
        "            mis_val_table_ren_columns.iloc[:,1] != 0].sort_values(\n",
        "        '% of Total Values', ascending=False).round(1)\n",
        "        \n",
        "        # Print some summary information\n",
        "        print (\"Your selected dataframe has \" + str(df.shape[1]) + \" columns.\\n\"      \n",
        "            \"There are \" + str(mis_val_table_ren_columns.shape[0]) +\n",
        "              \" columns that have missing values.\")\n",
        "        \n",
        "        # Return the dataframe with missing information\n",
        "        return mis_val_table_ren_columns"
      ],
      "execution_count": null,
      "outputs": []
    },
    {
      "cell_type": "code",
      "metadata": {
        "colab": {
          "base_uri": "https://localhost:8080/",
          "height": 241
        },
        "id": "CRk0_GObKgQM",
        "outputId": "adea06fe-9a44-4170-b307-987bfb6dfbd0"
      },
      "source": [
        "# check missing data\n",
        "missing_values_table(df)"
      ],
      "execution_count": null,
      "outputs": [
        {
          "name": "stdout",
          "output_type": "stream",
          "text": [
            "Your selected dataframe has 16 columns.\n",
            "There are 5 columns that have missing values.\n"
          ]
        },
        {
          "data": {
            "text/html": [
              "<div>\n",
              "<style scoped>\n",
              "    .dataframe tbody tr th:only-of-type {\n",
              "        vertical-align: middle;\n",
              "    }\n",
              "\n",
              "    .dataframe tbody tr th {\n",
              "        vertical-align: top;\n",
              "    }\n",
              "\n",
              "    .dataframe thead th {\n",
              "        text-align: right;\n",
              "    }\n",
              "</style>\n",
              "<table border=\"1\" class=\"dataframe\">\n",
              "  <thead>\n",
              "    <tr style=\"text-align: right;\">\n",
              "      <th></th>\n",
              "      <th>Missing Values</th>\n",
              "      <th>% of Total Values</th>\n",
              "    </tr>\n",
              "  </thead>\n",
              "  <tbody>\n",
              "    <tr>\n",
              "      <th>not_repaired</th>\n",
              "      <td>71154</td>\n",
              "      <td>20.1</td>\n",
              "    </tr>\n",
              "    <tr>\n",
              "      <th>vehicle_type</th>\n",
              "      <td>37490</td>\n",
              "      <td>10.6</td>\n",
              "    </tr>\n",
              "    <tr>\n",
              "      <th>fuel_type</th>\n",
              "      <td>32895</td>\n",
              "      <td>9.3</td>\n",
              "    </tr>\n",
              "    <tr>\n",
              "      <th>gearbox</th>\n",
              "      <td>19833</td>\n",
              "      <td>5.6</td>\n",
              "    </tr>\n",
              "    <tr>\n",
              "      <th>model</th>\n",
              "      <td>19705</td>\n",
              "      <td>5.6</td>\n",
              "    </tr>\n",
              "  </tbody>\n",
              "</table>\n",
              "</div>"
            ],
            "text/plain": [
              "              Missing Values  % of Total Values\n",
              "not_repaired           71154               20.1\n",
              "vehicle_type           37490               10.6\n",
              "fuel_type              32895                9.3\n",
              "gearbox                19833                5.6\n",
              "model                  19705                5.6"
            ]
          },
          "execution_count": 9,
          "metadata": {},
          "output_type": "execute_result"
        }
      ]
    },
    {
      "cell_type": "markdown",
      "metadata": {
        "id": "_BsLaE6lZMFA"
      },
      "source": [
        "- The missing values in the dataset are mostly missing at random (MAR)."
      ]
    },
    {
      "cell_type": "markdown",
      "metadata": {
        "id": "RbxiaHE_ZbQi"
      },
      "source": [
        "- `not_repaired` has 20.1% missing values\n",
        "- `vehicle_type`, `fuel_type`, `gearbox` and `model`: have less than 10% missing value\n",
        "- we can drop missing values that are less than 10% , let's see how we can handle this"
      ]
    },
    {
      "cell_type": "markdown",
      "metadata": {
        "id": "A-pXxyLTZcf9"
      },
      "source": [
        "- This function is used to fill a missing value with a unique feature using the property of the data."
      ]
    },
    {
      "cell_type": "code",
      "metadata": {
        "id": "t8uarvEFKgQM"
      },
      "source": [
        "# function to replace missing values\n",
        "def replace_missing_value(unique_value_feature, col_to_replace):  \n",
        "    \"\"\"\n",
        "    This function is used to replace missing value in a column\n",
        "    using possible unique value feature for those missing values    \n",
        "    \"\"\"\n",
        "    # get unique value of feature from this dataframe\n",
        "    for value in df[unique_value_feature].unique().tolist():\n",
        "        # get specific value of features using possible value from column value to replace\n",
        "        specific_value_df = df[df[unique_value_feature] == value].dropna()[col_to_replace]    \n",
        "        value_replacement_list = specific_value_df.unique().tolist()\n",
        "        # for the missing value, assign a random choice of the replacement value for that unknown value\n",
        "        if value_replacement_list != []:\n",
        "            df.loc[(df[unique_value_feature] == value) & (df[col_to_replace] != df[col_to_replace]), col_to_replace] = random.choice(value_replacement_list)\n",
        "        else:\n",
        "            df.loc[(df[unique_value_feature] == value) & (df[col_to_replace] != df[col_to_replace]), col_to_replace] = df[col_to_replace].mode()"
      ],
      "execution_count": null,
      "outputs": []
    },
    {
      "cell_type": "markdown",
      "metadata": {
        "id": "e6vHCBJdaTPH"
      },
      "source": [
        "- **`model` feature**"
      ]
    },
    {
      "cell_type": "markdown",
      "metadata": {
        "id": "cpRfWgOIacDF"
      },
      "source": [
        "The approach here is to \n",
        "- get a unique value of vehicle brand, \n",
        "- then get the list of specific brand with possible model for that brand. \n",
        "- then choose a random value from the list (excluding the nan values) and assign that to the missing model for that vehicle brand in the dataframe. \n",
        "\n",
        "For unique brand with an empty list, we use most frequent value in `model` column."
      ]
    },
    {
      "cell_type": "code",
      "metadata": {
        "id": "NfRAzoTfKgQN"
      },
      "source": [
        "replace_missing_value('brand', 'model')"
      ],
      "execution_count": null,
      "outputs": []
    },
    {
      "cell_type": "markdown",
      "metadata": {
        "id": "YM3632HJajic"
      },
      "source": [
        "- **`vehicle_type` feature**"
      ]
    },
    {
      "cell_type": "markdown",
      "metadata": {
        "id": "coMQ74PEal4k"
      },
      "source": [
        "- We get the unique values of vehicle model, \n",
        "- get the list of specific model with possible vehicle type for that model. \n",
        "- choose a random value from the list (excluding the nan values) and assign that to the missing `vehicle_type` for that vehicle model in the dataframe. \n",
        "\n",
        "For unique model with an empty list, we use the most frequent value in the `vehicle_type` column."
      ]
    },
    {
      "cell_type": "code",
      "metadata": {
        "id": "jrKYCym8KgQN"
      },
      "source": [
        "replace_missing_value('model', 'vehicle_type')"
      ],
      "execution_count": null,
      "outputs": []
    },
    {
      "cell_type": "markdown",
      "metadata": {
        "id": "L_5BBsRMarTW"
      },
      "source": [
        "- **`fuel_type` feature**"
      ]
    },
    {
      "cell_type": "code",
      "metadata": {
        "id": "tVFNgNArKgQO"
      },
      "source": [
        "# replace missing value in `fuel_type` column\n",
        "replace_missing_value('model', 'fuel_type')"
      ],
      "execution_count": null,
      "outputs": []
    },
    {
      "cell_type": "markdown",
      "metadata": {
        "id": "_ZvtrHqUazaW"
      },
      "source": [
        "- **`gearbox` feature**"
      ]
    },
    {
      "cell_type": "code",
      "metadata": {
        "id": "sEvrpYU3KgQO"
      },
      "source": [
        "# replace missing value in `gearbox` column\n",
        "replace_missing_value('model', 'gearbox')"
      ],
      "execution_count": null,
      "outputs": []
    },
    {
      "cell_type": "markdown",
      "metadata": {
        "id": "K0Ad-ccJa-KO"
      },
      "source": [
        "*********************************"
      ]
    },
    {
      "cell_type": "markdown",
      "metadata": {
        "id": "aIfG2N3ebAAa"
      },
      "source": [
        "- **`not_repaired` feature**"
      ]
    },
    {
      "cell_type": "markdown",
      "metadata": {
        "id": "24ZC5-FcbEhs"
      },
      "source": [
        "- The best for `not_repaired` features is to replace nan values with a new category"
      ]
    },
    {
      "cell_type": "code",
      "metadata": {
        "colab": {
          "base_uri": "https://localhost:8080/"
        },
        "id": "PwtDd6ftKgQO",
        "outputId": "ecd15858-a5ab-4753-b5a2-c5cf13131d32"
      },
      "source": [
        "df['not_repaired'].fillna('unknown', inplace=True)\n",
        "df.not_repaired.value_counts()"
      ],
      "execution_count": null,
      "outputs": [
        {
          "data": {
            "text/plain": [
              "no         247161\n",
              "unknown     71154\n",
              "yes         36054\n",
              "Name: not_repaired, dtype: int64"
            ]
          },
          "execution_count": 15,
          "metadata": {},
          "output_type": "execute_result"
        }
      ]
    },
    {
      "cell_type": "markdown",
      "metadata": {
        "id": "spkJcIYhbJ4o"
      },
      "source": [
        "- **checking missing after cleansing**"
      ]
    },
    {
      "cell_type": "code",
      "metadata": {
        "colab": {
          "base_uri": "https://localhost:8080/",
          "height": 210
        },
        "id": "xhceM_UQKgQP",
        "outputId": "3b433325-57bf-4b5f-c88c-2139dbef26de"
      },
      "source": [
        "missing_values_table(df)"
      ],
      "execution_count": null,
      "outputs": [
        {
          "name": "stdout",
          "output_type": "stream",
          "text": [
            "Your selected dataframe has 16 columns.\n",
            "There are 4 columns that have missing values.\n"
          ]
        },
        {
          "data": {
            "text/html": [
              "<div>\n",
              "<style scoped>\n",
              "    .dataframe tbody tr th:only-of-type {\n",
              "        vertical-align: middle;\n",
              "    }\n",
              "\n",
              "    .dataframe tbody tr th {\n",
              "        vertical-align: top;\n",
              "    }\n",
              "\n",
              "    .dataframe thead th {\n",
              "        text-align: right;\n",
              "    }\n",
              "</style>\n",
              "<table border=\"1\" class=\"dataframe\">\n",
              "  <thead>\n",
              "    <tr style=\"text-align: right;\">\n",
              "      <th></th>\n",
              "      <th>Missing Values</th>\n",
              "      <th>% of Total Values</th>\n",
              "    </tr>\n",
              "  </thead>\n",
              "  <tbody>\n",
              "    <tr>\n",
              "      <th>model</th>\n",
              "      <td>3374</td>\n",
              "      <td>1.0</td>\n",
              "    </tr>\n",
              "    <tr>\n",
              "      <th>gearbox</th>\n",
              "      <td>1104</td>\n",
              "      <td>0.3</td>\n",
              "    </tr>\n",
              "    <tr>\n",
              "      <th>fuel_type</th>\n",
              "      <td>1104</td>\n",
              "      <td>0.3</td>\n",
              "    </tr>\n",
              "    <tr>\n",
              "      <th>vehicle_type</th>\n",
              "      <td>1042</td>\n",
              "      <td>0.3</td>\n",
              "    </tr>\n",
              "  </tbody>\n",
              "</table>\n",
              "</div>"
            ],
            "text/plain": [
              "              Missing Values  % of Total Values\n",
              "model                   3374                1.0\n",
              "gearbox                 1104                0.3\n",
              "fuel_type               1104                0.3\n",
              "vehicle_type            1042                0.3"
            ]
          },
          "execution_count": 16,
          "metadata": {},
          "output_type": "execute_result"
        }
      ]
    },
    {
      "cell_type": "code",
      "metadata": {
        "colab": {
          "base_uri": "https://localhost:8080/",
          "height": 313
        },
        "id": "eI0JjPasbPU8",
        "outputId": "7473c6fb-6fcd-4faa-f208-d36f2a3db40b"
      },
      "source": [
        "df.head()"
      ],
      "execution_count": null,
      "outputs": [
        {
          "data": {
            "text/html": [
              "<div>\n",
              "<style scoped>\n",
              "    .dataframe tbody tr th:only-of-type {\n",
              "        vertical-align: middle;\n",
              "    }\n",
              "\n",
              "    .dataframe tbody tr th {\n",
              "        vertical-align: top;\n",
              "    }\n",
              "\n",
              "    .dataframe thead th {\n",
              "        text-align: right;\n",
              "    }\n",
              "</style>\n",
              "<table border=\"1\" class=\"dataframe\">\n",
              "  <thead>\n",
              "    <tr style=\"text-align: right;\">\n",
              "      <th></th>\n",
              "      <th>date_crawled</th>\n",
              "      <th>price</th>\n",
              "      <th>vehicle_type</th>\n",
              "      <th>registration_year</th>\n",
              "      <th>gearbox</th>\n",
              "      <th>power</th>\n",
              "      <th>model</th>\n",
              "      <th>mileage</th>\n",
              "      <th>registration_month</th>\n",
              "      <th>fuel_type</th>\n",
              "      <th>brand</th>\n",
              "      <th>not_repaired</th>\n",
              "      <th>date_created</th>\n",
              "      <th>number_of_pictures</th>\n",
              "      <th>postal_code</th>\n",
              "      <th>last_seen</th>\n",
              "    </tr>\n",
              "  </thead>\n",
              "  <tbody>\n",
              "    <tr>\n",
              "      <th>0</th>\n",
              "      <td>24/03/2016 11:52</td>\n",
              "      <td>480</td>\n",
              "      <td>wagon</td>\n",
              "      <td>1993</td>\n",
              "      <td>manual</td>\n",
              "      <td>0</td>\n",
              "      <td>golf</td>\n",
              "      <td>150000</td>\n",
              "      <td>0</td>\n",
              "      <td>petrol</td>\n",
              "      <td>volkswagen</td>\n",
              "      <td>unknown</td>\n",
              "      <td>24/03/2016 00:00</td>\n",
              "      <td>0</td>\n",
              "      <td>70435</td>\n",
              "      <td>07/04/2016 03:16</td>\n",
              "    </tr>\n",
              "    <tr>\n",
              "      <th>1</th>\n",
              "      <td>24/03/2016 10:58</td>\n",
              "      <td>18300</td>\n",
              "      <td>coupe</td>\n",
              "      <td>2011</td>\n",
              "      <td>manual</td>\n",
              "      <td>190</td>\n",
              "      <td>a1</td>\n",
              "      <td>125000</td>\n",
              "      <td>5</td>\n",
              "      <td>gasoline</td>\n",
              "      <td>audi</td>\n",
              "      <td>yes</td>\n",
              "      <td>24/03/2016 00:00</td>\n",
              "      <td>0</td>\n",
              "      <td>66954</td>\n",
              "      <td>07/04/2016 01:46</td>\n",
              "    </tr>\n",
              "    <tr>\n",
              "      <th>2</th>\n",
              "      <td>14/03/2016 12:52</td>\n",
              "      <td>9800</td>\n",
              "      <td>suv</td>\n",
              "      <td>2004</td>\n",
              "      <td>auto</td>\n",
              "      <td>163</td>\n",
              "      <td>grand</td>\n",
              "      <td>125000</td>\n",
              "      <td>8</td>\n",
              "      <td>gasoline</td>\n",
              "      <td>jeep</td>\n",
              "      <td>unknown</td>\n",
              "      <td>14/03/2016 00:00</td>\n",
              "      <td>0</td>\n",
              "      <td>90480</td>\n",
              "      <td>05/04/2016 12:47</td>\n",
              "    </tr>\n",
              "    <tr>\n",
              "      <th>3</th>\n",
              "      <td>17/03/2016 16:54</td>\n",
              "      <td>1500</td>\n",
              "      <td>small</td>\n",
              "      <td>2001</td>\n",
              "      <td>manual</td>\n",
              "      <td>75</td>\n",
              "      <td>golf</td>\n",
              "      <td>150000</td>\n",
              "      <td>6</td>\n",
              "      <td>petrol</td>\n",
              "      <td>volkswagen</td>\n",
              "      <td>no</td>\n",
              "      <td>17/03/2016 00:00</td>\n",
              "      <td>0</td>\n",
              "      <td>91074</td>\n",
              "      <td>17/03/2016 17:40</td>\n",
              "    </tr>\n",
              "    <tr>\n",
              "      <th>4</th>\n",
              "      <td>31/03/2016 17:25</td>\n",
              "      <td>3600</td>\n",
              "      <td>small</td>\n",
              "      <td>2008</td>\n",
              "      <td>manual</td>\n",
              "      <td>69</td>\n",
              "      <td>fabia</td>\n",
              "      <td>90000</td>\n",
              "      <td>7</td>\n",
              "      <td>gasoline</td>\n",
              "      <td>skoda</td>\n",
              "      <td>no</td>\n",
              "      <td>31/03/2016 00:00</td>\n",
              "      <td>0</td>\n",
              "      <td>60437</td>\n",
              "      <td>06/04/2016 10:17</td>\n",
              "    </tr>\n",
              "  </tbody>\n",
              "</table>\n",
              "</div>"
            ],
            "text/plain": [
              "       date_crawled  price  ... postal_code         last_seen\n",
              "0  24/03/2016 11:52    480  ...       70435  07/04/2016 03:16\n",
              "1  24/03/2016 10:58  18300  ...       66954  07/04/2016 01:46\n",
              "2  14/03/2016 12:52   9800  ...       90480  05/04/2016 12:47\n",
              "3  17/03/2016 16:54   1500  ...       91074  17/03/2016 17:40\n",
              "4  31/03/2016 17:25   3600  ...       60437  06/04/2016 10:17\n",
              "\n",
              "[5 rows x 16 columns]"
            ]
          },
          "execution_count": 17,
          "metadata": {},
          "output_type": "execute_result"
        }
      ]
    },
    {
      "cell_type": "code",
      "metadata": {
        "colab": {
          "base_uri": "https://localhost:8080/",
          "height": 617
        },
        "id": "DQxDmZ44bTNA",
        "outputId": "294493eb-707d-44a8-8d75-f471dbdcdcbe"
      },
      "source": [
        "df[(df['model'].isnull())]"
      ],
      "execution_count": null,
      "outputs": [
        {
          "data": {
            "text/html": [
              "<div>\n",
              "<style scoped>\n",
              "    .dataframe tbody tr th:only-of-type {\n",
              "        vertical-align: middle;\n",
              "    }\n",
              "\n",
              "    .dataframe tbody tr th {\n",
              "        vertical-align: top;\n",
              "    }\n",
              "\n",
              "    .dataframe thead th {\n",
              "        text-align: right;\n",
              "    }\n",
              "</style>\n",
              "<table border=\"1\" class=\"dataframe\">\n",
              "  <thead>\n",
              "    <tr style=\"text-align: right;\">\n",
              "      <th></th>\n",
              "      <th>date_crawled</th>\n",
              "      <th>price</th>\n",
              "      <th>vehicle_type</th>\n",
              "      <th>registration_year</th>\n",
              "      <th>gearbox</th>\n",
              "      <th>power</th>\n",
              "      <th>model</th>\n",
              "      <th>mileage</th>\n",
              "      <th>registration_month</th>\n",
              "      <th>fuel_type</th>\n",
              "      <th>brand</th>\n",
              "      <th>not_repaired</th>\n",
              "      <th>date_created</th>\n",
              "      <th>number_of_pictures</th>\n",
              "      <th>postal_code</th>\n",
              "      <th>last_seen</th>\n",
              "    </tr>\n",
              "  </thead>\n",
              "  <tbody>\n",
              "    <tr>\n",
              "      <th>59</th>\n",
              "      <td>29/03/2016 15:48</td>\n",
              "      <td>1</td>\n",
              "      <td>suv</td>\n",
              "      <td>1994</td>\n",
              "      <td>manual</td>\n",
              "      <td>286</td>\n",
              "      <td>NaN</td>\n",
              "      <td>150000</td>\n",
              "      <td>11</td>\n",
              "      <td>NaN</td>\n",
              "      <td>sonstige_autos</td>\n",
              "      <td>unknown</td>\n",
              "      <td>29/03/2016 00:00</td>\n",
              "      <td>0</td>\n",
              "      <td>53721</td>\n",
              "      <td>06/04/2016 01:44</td>\n",
              "    </tr>\n",
              "    <tr>\n",
              "      <th>306</th>\n",
              "      <td>21/03/2016 14:38</td>\n",
              "      <td>200</td>\n",
              "      <td>NaN</td>\n",
              "      <td>2009</td>\n",
              "      <td>NaN</td>\n",
              "      <td>0</td>\n",
              "      <td>NaN</td>\n",
              "      <td>10000</td>\n",
              "      <td>0</td>\n",
              "      <td>NaN</td>\n",
              "      <td>sonstige_autos</td>\n",
              "      <td>unknown</td>\n",
              "      <td>21/03/2016 00:00</td>\n",
              "      <td>0</td>\n",
              "      <td>6493</td>\n",
              "      <td>24/03/2016 02:47</td>\n",
              "    </tr>\n",
              "    <tr>\n",
              "      <th>431</th>\n",
              "      <td>20/03/2016 20:45</td>\n",
              "      <td>3950</td>\n",
              "      <td>small</td>\n",
              "      <td>2004</td>\n",
              "      <td>auto</td>\n",
              "      <td>5</td>\n",
              "      <td>NaN</td>\n",
              "      <td>70000</td>\n",
              "      <td>5</td>\n",
              "      <td>gasoline</td>\n",
              "      <td>sonstige_autos</td>\n",
              "      <td>no</td>\n",
              "      <td>20/03/2016 00:00</td>\n",
              "      <td>0</td>\n",
              "      <td>90562</td>\n",
              "      <td>03/04/2016 04:17</td>\n",
              "    </tr>\n",
              "    <tr>\n",
              "      <th>650</th>\n",
              "      <td>30/03/2016 11:55</td>\n",
              "      <td>15000</td>\n",
              "      <td>coupe</td>\n",
              "      <td>1971</td>\n",
              "      <td>NaN</td>\n",
              "      <td>0</td>\n",
              "      <td>NaN</td>\n",
              "      <td>5000</td>\n",
              "      <td>4</td>\n",
              "      <td>NaN</td>\n",
              "      <td>sonstige_autos</td>\n",
              "      <td>no</td>\n",
              "      <td>30/03/2016 00:00</td>\n",
              "      <td>0</td>\n",
              "      <td>51145</td>\n",
              "      <td>07/04/2016 02:45</td>\n",
              "    </tr>\n",
              "    <tr>\n",
              "      <th>661</th>\n",
              "      <td>01/04/2016 15:56</td>\n",
              "      <td>9900</td>\n",
              "      <td>suv</td>\n",
              "      <td>2000</td>\n",
              "      <td>auto</td>\n",
              "      <td>250</td>\n",
              "      <td>NaN</td>\n",
              "      <td>150000</td>\n",
              "      <td>4</td>\n",
              "      <td>lpg</td>\n",
              "      <td>sonstige_autos</td>\n",
              "      <td>no</td>\n",
              "      <td>01/04/2016 00:00</td>\n",
              "      <td>0</td>\n",
              "      <td>17309</td>\n",
              "      <td>07/04/2016 14:56</td>\n",
              "    </tr>\n",
              "    <tr>\n",
              "      <th>...</th>\n",
              "      <td>...</td>\n",
              "      <td>...</td>\n",
              "      <td>...</td>\n",
              "      <td>...</td>\n",
              "      <td>...</td>\n",
              "      <td>...</td>\n",
              "      <td>...</td>\n",
              "      <td>...</td>\n",
              "      <td>...</td>\n",
              "      <td>...</td>\n",
              "      <td>...</td>\n",
              "      <td>...</td>\n",
              "      <td>...</td>\n",
              "      <td>...</td>\n",
              "      <td>...</td>\n",
              "      <td>...</td>\n",
              "    </tr>\n",
              "    <tr>\n",
              "      <th>354062</th>\n",
              "      <td>19/03/2016 11:25</td>\n",
              "      <td>6000</td>\n",
              "      <td>small</td>\n",
              "      <td>2008</td>\n",
              "      <td>manual</td>\n",
              "      <td>155</td>\n",
              "      <td>NaN</td>\n",
              "      <td>150000</td>\n",
              "      <td>5</td>\n",
              "      <td>petrol</td>\n",
              "      <td>sonstige_autos</td>\n",
              "      <td>no</td>\n",
              "      <td>19/03/2016 00:00</td>\n",
              "      <td>0</td>\n",
              "      <td>63069</td>\n",
              "      <td>07/04/2016 00:46</td>\n",
              "    </tr>\n",
              "    <tr>\n",
              "      <th>354073</th>\n",
              "      <td>19/03/2016 14:53</td>\n",
              "      <td>1750</td>\n",
              "      <td>NaN</td>\n",
              "      <td>1995</td>\n",
              "      <td>NaN</td>\n",
              "      <td>0</td>\n",
              "      <td>NaN</td>\n",
              "      <td>100000</td>\n",
              "      <td>12</td>\n",
              "      <td>NaN</td>\n",
              "      <td>sonstige_autos</td>\n",
              "      <td>unknown</td>\n",
              "      <td>19/03/2016 00:00</td>\n",
              "      <td>0</td>\n",
              "      <td>6188</td>\n",
              "      <td>01/04/2016 01:47</td>\n",
              "    </tr>\n",
              "    <tr>\n",
              "      <th>354083</th>\n",
              "      <td>30/03/2016 07:54</td>\n",
              "      <td>0</td>\n",
              "      <td>NaN</td>\n",
              "      <td>2000</td>\n",
              "      <td>NaN</td>\n",
              "      <td>0</td>\n",
              "      <td>NaN</td>\n",
              "      <td>150000</td>\n",
              "      <td>0</td>\n",
              "      <td>NaN</td>\n",
              "      <td>sonstige_autos</td>\n",
              "      <td>unknown</td>\n",
              "      <td>30/03/2016 00:00</td>\n",
              "      <td>0</td>\n",
              "      <td>6686</td>\n",
              "      <td>06/04/2016 23:46</td>\n",
              "    </tr>\n",
              "    <tr>\n",
              "      <th>354321</th>\n",
              "      <td>15/03/2016 13:52</td>\n",
              "      <td>9400</td>\n",
              "      <td>wagon</td>\n",
              "      <td>2007</td>\n",
              "      <td>manual</td>\n",
              "      <td>200</td>\n",
              "      <td>NaN</td>\n",
              "      <td>150000</td>\n",
              "      <td>4</td>\n",
              "      <td>gasoline</td>\n",
              "      <td>sonstige_autos</td>\n",
              "      <td>yes</td>\n",
              "      <td>15/03/2016 00:00</td>\n",
              "      <td>0</td>\n",
              "      <td>91186</td>\n",
              "      <td>17/03/2016 08:16</td>\n",
              "    </tr>\n",
              "    <tr>\n",
              "      <th>354365</th>\n",
              "      <td>14/03/2016 17:48</td>\n",
              "      <td>2200</td>\n",
              "      <td>NaN</td>\n",
              "      <td>2005</td>\n",
              "      <td>NaN</td>\n",
              "      <td>0</td>\n",
              "      <td>NaN</td>\n",
              "      <td>20000</td>\n",
              "      <td>1</td>\n",
              "      <td>NaN</td>\n",
              "      <td>sonstige_autos</td>\n",
              "      <td>unknown</td>\n",
              "      <td>14/03/2016 00:00</td>\n",
              "      <td>0</td>\n",
              "      <td>39576</td>\n",
              "      <td>06/04/2016 00:46</td>\n",
              "    </tr>\n",
              "  </tbody>\n",
              "</table>\n",
              "<p>3374 rows × 16 columns</p>\n",
              "</div>"
            ],
            "text/plain": [
              "            date_crawled  price  ... postal_code         last_seen\n",
              "59      29/03/2016 15:48      1  ...       53721  06/04/2016 01:44\n",
              "306     21/03/2016 14:38    200  ...        6493  24/03/2016 02:47\n",
              "431     20/03/2016 20:45   3950  ...       90562  03/04/2016 04:17\n",
              "650     30/03/2016 11:55  15000  ...       51145  07/04/2016 02:45\n",
              "661     01/04/2016 15:56   9900  ...       17309  07/04/2016 14:56\n",
              "...                  ...    ...  ...         ...               ...\n",
              "354062  19/03/2016 11:25   6000  ...       63069  07/04/2016 00:46\n",
              "354073  19/03/2016 14:53   1750  ...        6188  01/04/2016 01:47\n",
              "354083  30/03/2016 07:54      0  ...        6686  06/04/2016 23:46\n",
              "354321  15/03/2016 13:52   9400  ...       91186  17/03/2016 08:16\n",
              "354365  14/03/2016 17:48   2200  ...       39576  06/04/2016 00:46\n",
              "\n",
              "[3374 rows x 16 columns]"
            ]
          },
          "execution_count": 18,
          "metadata": {},
          "output_type": "execute_result"
        }
      ]
    },
    {
      "cell_type": "code",
      "metadata": {
        "colab": {
          "base_uri": "https://localhost:8080/",
          "height": 617
        },
        "id": "MKEaOOJHKgQP",
        "outputId": "f5c95d37-0516-4acc-ef5c-ef95d0035022"
      },
      "source": [
        "# dataframe with missing value\n",
        "df[(df['model'].isnull()) & (df['brand'] == 'sonstige_autos')]"
      ],
      "execution_count": null,
      "outputs": [
        {
          "data": {
            "text/html": [
              "<div>\n",
              "<style scoped>\n",
              "    .dataframe tbody tr th:only-of-type {\n",
              "        vertical-align: middle;\n",
              "    }\n",
              "\n",
              "    .dataframe tbody tr th {\n",
              "        vertical-align: top;\n",
              "    }\n",
              "\n",
              "    .dataframe thead th {\n",
              "        text-align: right;\n",
              "    }\n",
              "</style>\n",
              "<table border=\"1\" class=\"dataframe\">\n",
              "  <thead>\n",
              "    <tr style=\"text-align: right;\">\n",
              "      <th></th>\n",
              "      <th>date_crawled</th>\n",
              "      <th>price</th>\n",
              "      <th>vehicle_type</th>\n",
              "      <th>registration_year</th>\n",
              "      <th>gearbox</th>\n",
              "      <th>power</th>\n",
              "      <th>model</th>\n",
              "      <th>mileage</th>\n",
              "      <th>registration_month</th>\n",
              "      <th>fuel_type</th>\n",
              "      <th>brand</th>\n",
              "      <th>not_repaired</th>\n",
              "      <th>date_created</th>\n",
              "      <th>number_of_pictures</th>\n",
              "      <th>postal_code</th>\n",
              "      <th>last_seen</th>\n",
              "    </tr>\n",
              "  </thead>\n",
              "  <tbody>\n",
              "    <tr>\n",
              "      <th>59</th>\n",
              "      <td>29/03/2016 15:48</td>\n",
              "      <td>1</td>\n",
              "      <td>suv</td>\n",
              "      <td>1994</td>\n",
              "      <td>manual</td>\n",
              "      <td>286</td>\n",
              "      <td>NaN</td>\n",
              "      <td>150000</td>\n",
              "      <td>11</td>\n",
              "      <td>NaN</td>\n",
              "      <td>sonstige_autos</td>\n",
              "      <td>unknown</td>\n",
              "      <td>29/03/2016 00:00</td>\n",
              "      <td>0</td>\n",
              "      <td>53721</td>\n",
              "      <td>06/04/2016 01:44</td>\n",
              "    </tr>\n",
              "    <tr>\n",
              "      <th>306</th>\n",
              "      <td>21/03/2016 14:38</td>\n",
              "      <td>200</td>\n",
              "      <td>NaN</td>\n",
              "      <td>2009</td>\n",
              "      <td>NaN</td>\n",
              "      <td>0</td>\n",
              "      <td>NaN</td>\n",
              "      <td>10000</td>\n",
              "      <td>0</td>\n",
              "      <td>NaN</td>\n",
              "      <td>sonstige_autos</td>\n",
              "      <td>unknown</td>\n",
              "      <td>21/03/2016 00:00</td>\n",
              "      <td>0</td>\n",
              "      <td>6493</td>\n",
              "      <td>24/03/2016 02:47</td>\n",
              "    </tr>\n",
              "    <tr>\n",
              "      <th>431</th>\n",
              "      <td>20/03/2016 20:45</td>\n",
              "      <td>3950</td>\n",
              "      <td>small</td>\n",
              "      <td>2004</td>\n",
              "      <td>auto</td>\n",
              "      <td>5</td>\n",
              "      <td>NaN</td>\n",
              "      <td>70000</td>\n",
              "      <td>5</td>\n",
              "      <td>gasoline</td>\n",
              "      <td>sonstige_autos</td>\n",
              "      <td>no</td>\n",
              "      <td>20/03/2016 00:00</td>\n",
              "      <td>0</td>\n",
              "      <td>90562</td>\n",
              "      <td>03/04/2016 04:17</td>\n",
              "    </tr>\n",
              "    <tr>\n",
              "      <th>650</th>\n",
              "      <td>30/03/2016 11:55</td>\n",
              "      <td>15000</td>\n",
              "      <td>coupe</td>\n",
              "      <td>1971</td>\n",
              "      <td>NaN</td>\n",
              "      <td>0</td>\n",
              "      <td>NaN</td>\n",
              "      <td>5000</td>\n",
              "      <td>4</td>\n",
              "      <td>NaN</td>\n",
              "      <td>sonstige_autos</td>\n",
              "      <td>no</td>\n",
              "      <td>30/03/2016 00:00</td>\n",
              "      <td>0</td>\n",
              "      <td>51145</td>\n",
              "      <td>07/04/2016 02:45</td>\n",
              "    </tr>\n",
              "    <tr>\n",
              "      <th>661</th>\n",
              "      <td>01/04/2016 15:56</td>\n",
              "      <td>9900</td>\n",
              "      <td>suv</td>\n",
              "      <td>2000</td>\n",
              "      <td>auto</td>\n",
              "      <td>250</td>\n",
              "      <td>NaN</td>\n",
              "      <td>150000</td>\n",
              "      <td>4</td>\n",
              "      <td>lpg</td>\n",
              "      <td>sonstige_autos</td>\n",
              "      <td>no</td>\n",
              "      <td>01/04/2016 00:00</td>\n",
              "      <td>0</td>\n",
              "      <td>17309</td>\n",
              "      <td>07/04/2016 14:56</td>\n",
              "    </tr>\n",
              "    <tr>\n",
              "      <th>...</th>\n",
              "      <td>...</td>\n",
              "      <td>...</td>\n",
              "      <td>...</td>\n",
              "      <td>...</td>\n",
              "      <td>...</td>\n",
              "      <td>...</td>\n",
              "      <td>...</td>\n",
              "      <td>...</td>\n",
              "      <td>...</td>\n",
              "      <td>...</td>\n",
              "      <td>...</td>\n",
              "      <td>...</td>\n",
              "      <td>...</td>\n",
              "      <td>...</td>\n",
              "      <td>...</td>\n",
              "      <td>...</td>\n",
              "    </tr>\n",
              "    <tr>\n",
              "      <th>354062</th>\n",
              "      <td>19/03/2016 11:25</td>\n",
              "      <td>6000</td>\n",
              "      <td>small</td>\n",
              "      <td>2008</td>\n",
              "      <td>manual</td>\n",
              "      <td>155</td>\n",
              "      <td>NaN</td>\n",
              "      <td>150000</td>\n",
              "      <td>5</td>\n",
              "      <td>petrol</td>\n",
              "      <td>sonstige_autos</td>\n",
              "      <td>no</td>\n",
              "      <td>19/03/2016 00:00</td>\n",
              "      <td>0</td>\n",
              "      <td>63069</td>\n",
              "      <td>07/04/2016 00:46</td>\n",
              "    </tr>\n",
              "    <tr>\n",
              "      <th>354073</th>\n",
              "      <td>19/03/2016 14:53</td>\n",
              "      <td>1750</td>\n",
              "      <td>NaN</td>\n",
              "      <td>1995</td>\n",
              "      <td>NaN</td>\n",
              "      <td>0</td>\n",
              "      <td>NaN</td>\n",
              "      <td>100000</td>\n",
              "      <td>12</td>\n",
              "      <td>NaN</td>\n",
              "      <td>sonstige_autos</td>\n",
              "      <td>unknown</td>\n",
              "      <td>19/03/2016 00:00</td>\n",
              "      <td>0</td>\n",
              "      <td>6188</td>\n",
              "      <td>01/04/2016 01:47</td>\n",
              "    </tr>\n",
              "    <tr>\n",
              "      <th>354083</th>\n",
              "      <td>30/03/2016 07:54</td>\n",
              "      <td>0</td>\n",
              "      <td>NaN</td>\n",
              "      <td>2000</td>\n",
              "      <td>NaN</td>\n",
              "      <td>0</td>\n",
              "      <td>NaN</td>\n",
              "      <td>150000</td>\n",
              "      <td>0</td>\n",
              "      <td>NaN</td>\n",
              "      <td>sonstige_autos</td>\n",
              "      <td>unknown</td>\n",
              "      <td>30/03/2016 00:00</td>\n",
              "      <td>0</td>\n",
              "      <td>6686</td>\n",
              "      <td>06/04/2016 23:46</td>\n",
              "    </tr>\n",
              "    <tr>\n",
              "      <th>354321</th>\n",
              "      <td>15/03/2016 13:52</td>\n",
              "      <td>9400</td>\n",
              "      <td>wagon</td>\n",
              "      <td>2007</td>\n",
              "      <td>manual</td>\n",
              "      <td>200</td>\n",
              "      <td>NaN</td>\n",
              "      <td>150000</td>\n",
              "      <td>4</td>\n",
              "      <td>gasoline</td>\n",
              "      <td>sonstige_autos</td>\n",
              "      <td>yes</td>\n",
              "      <td>15/03/2016 00:00</td>\n",
              "      <td>0</td>\n",
              "      <td>91186</td>\n",
              "      <td>17/03/2016 08:16</td>\n",
              "    </tr>\n",
              "    <tr>\n",
              "      <th>354365</th>\n",
              "      <td>14/03/2016 17:48</td>\n",
              "      <td>2200</td>\n",
              "      <td>NaN</td>\n",
              "      <td>2005</td>\n",
              "      <td>NaN</td>\n",
              "      <td>0</td>\n",
              "      <td>NaN</td>\n",
              "      <td>20000</td>\n",
              "      <td>1</td>\n",
              "      <td>NaN</td>\n",
              "      <td>sonstige_autos</td>\n",
              "      <td>unknown</td>\n",
              "      <td>14/03/2016 00:00</td>\n",
              "      <td>0</td>\n",
              "      <td>39576</td>\n",
              "      <td>06/04/2016 00:46</td>\n",
              "    </tr>\n",
              "  </tbody>\n",
              "</table>\n",
              "<p>3374 rows × 16 columns</p>\n",
              "</div>"
            ],
            "text/plain": [
              "            date_crawled  price  ... postal_code         last_seen\n",
              "59      29/03/2016 15:48      1  ...       53721  06/04/2016 01:44\n",
              "306     21/03/2016 14:38    200  ...        6493  24/03/2016 02:47\n",
              "431     20/03/2016 20:45   3950  ...       90562  03/04/2016 04:17\n",
              "650     30/03/2016 11:55  15000  ...       51145  07/04/2016 02:45\n",
              "661     01/04/2016 15:56   9900  ...       17309  07/04/2016 14:56\n",
              "...                  ...    ...  ...         ...               ...\n",
              "354062  19/03/2016 11:25   6000  ...       63069  07/04/2016 00:46\n",
              "354073  19/03/2016 14:53   1750  ...        6188  01/04/2016 01:47\n",
              "354083  30/03/2016 07:54      0  ...        6686  06/04/2016 23:46\n",
              "354321  15/03/2016 13:52   9400  ...       91186  17/03/2016 08:16\n",
              "354365  14/03/2016 17:48   2200  ...       39576  06/04/2016 00:46\n",
              "\n",
              "[3374 rows x 16 columns]"
            ]
          },
          "execution_count": 19,
          "metadata": {},
          "output_type": "execute_result"
        }
      ]
    },
    {
      "cell_type": "markdown",
      "metadata": {
        "id": "-qzhQfGWbYc0"
      },
      "source": [
        "- We see that we still have missing values\n",
        "- we can see from the df that the type of remaining nas is MNAR. \n",
        "- dropping rows with missing may introduce bias in the dataset. \n",
        "- a quick check here is showing us that there is NAs in `sonstige_autos` brand. \n",
        "\n",
        "Replacing missing with a new value rather than dropping data in this column will allow us to process the column in our further analysis without loosing data."
      ]
    },
    {
      "cell_type": "code",
      "metadata": {
        "id": "qO2ZfaOGKgQQ"
      },
      "source": [
        "# replace 'NaN' in the new dataframe with 'unknown'\n",
        "df.fillna(value='unknown', inplace=True)"
      ],
      "execution_count": null,
      "outputs": []
    },
    {
      "cell_type": "code",
      "metadata": {
        "colab": {
          "base_uri": "https://localhost:8080/",
          "height": 84
        },
        "id": "4T4wWuuGKgQQ",
        "outputId": "e0825b34-38df-44ea-9e77-5316c1c61c9c"
      },
      "source": [
        "#check for missing value\n",
        "missing_values_table(df)"
      ],
      "execution_count": null,
      "outputs": [
        {
          "name": "stdout",
          "output_type": "stream",
          "text": [
            "Your selected dataframe has 16 columns.\n",
            "There are 0 columns that have missing values.\n"
          ]
        },
        {
          "data": {
            "text/html": [
              "<div>\n",
              "<style scoped>\n",
              "    .dataframe tbody tr th:only-of-type {\n",
              "        vertical-align: middle;\n",
              "    }\n",
              "\n",
              "    .dataframe tbody tr th {\n",
              "        vertical-align: top;\n",
              "    }\n",
              "\n",
              "    .dataframe thead th {\n",
              "        text-align: right;\n",
              "    }\n",
              "</style>\n",
              "<table border=\"1\" class=\"dataframe\">\n",
              "  <thead>\n",
              "    <tr style=\"text-align: right;\">\n",
              "      <th></th>\n",
              "      <th>Missing Values</th>\n",
              "      <th>% of Total Values</th>\n",
              "    </tr>\n",
              "  </thead>\n",
              "  <tbody>\n",
              "  </tbody>\n",
              "</table>\n",
              "</div>"
            ],
            "text/plain": [
              "Empty DataFrame\n",
              "Columns: [Missing Values, % of Total Values]\n",
              "Index: []"
            ]
          },
          "execution_count": 21,
          "metadata": {},
          "output_type": "execute_result"
        }
      ]
    },
    {
      "cell_type": "markdown",
      "metadata": {
        "id": "goH6nGy7A3Jq"
      },
      "source": [
        "<div class=\"alert alert-block alert-success\">\n",
        "<b>Success:</b> Missing values were filled in the right way. Great that you've used values of other features.\n",
        "</div>"
      ]
    },
    {
      "cell_type": "markdown",
      "metadata": {
        "id": "a0N7Qa-8bxi1"
      },
      "source": [
        "## Handling duplicates"
      ]
    },
    {
      "cell_type": "markdown",
      "metadata": {
        "id": "X6zwggASbzE8"
      },
      "source": [
        "- We drop duplicated rows:"
      ]
    },
    {
      "cell_type": "code",
      "metadata": {
        "id": "QpAOzaBeKgQR"
      },
      "source": [
        "n_duplicated = df.duplicated().sum()\n",
        "\n",
        "df = df.drop_duplicates()"
      ],
      "execution_count": null,
      "outputs": []
    },
    {
      "cell_type": "code",
      "metadata": {
        "colab": {
          "base_uri": "https://localhost:8080/"
        },
        "id": "SX8qulXAcOWN",
        "outputId": "b2c31ef3-dfe1-4a0e-ae5e-828ce77b91bc"
      },
      "source": [
        "df.duplicated().sum()"
      ],
      "execution_count": null,
      "outputs": [
        {
          "data": {
            "text/plain": [
              "0"
            ]
          },
          "execution_count": 23,
          "metadata": {},
          "output_type": "execute_result"
        }
      ]
    },
    {
      "cell_type": "markdown",
      "metadata": {
        "id": "vCcNWDwIA3Jr"
      },
      "source": [
        "<div class=\"alert alert-block alert-info\">\n",
        "<b>Improve: </b> Please print \"n_duplicated\".\n",
        "</div>"
      ]
    },
    {
      "cell_type": "markdown",
      "metadata": {
        "id": "6fcL3b9acQZ4"
      },
      "source": [
        "## Changing Datatypes\n"
      ]
    },
    {
      "cell_type": "code",
      "metadata": {
        "id": "QsxglPV4KgQS"
      },
      "source": [
        "def change_datatype(df, cols, type_val):\n",
        "    for col in cols:\n",
        "        df[col] = df[col].astype(type_val)\n",
        "        \n",
        "change_datatype(df, ['date_crawled', 'date_created', 'last_seen'], 'datetime64[ns]')\n",
        "change_datatype(df, ['price', 'registration_year', 'power', 'registration_month', 'number_of_pictures'], 'int32')"
      ],
      "execution_count": null,
      "outputs": []
    },
    {
      "cell_type": "code",
      "metadata": {
        "colab": {
          "base_uri": "https://localhost:8080/"
        },
        "id": "UTLd4wEXKgQS",
        "outputId": "df9a5768-85d2-4f0e-bd60-f62c023a75b7"
      },
      "source": [
        "df.info()"
      ],
      "execution_count": null,
      "outputs": [
        {
          "name": "stdout",
          "output_type": "stream",
          "text": [
            "<class 'pandas.core.frame.DataFrame'>\n",
            "Int64Index: 354103 entries, 0 to 354368\n",
            "Data columns (total 16 columns):\n",
            " #   Column              Non-Null Count   Dtype         \n",
            "---  ------              --------------   -----         \n",
            " 0   date_crawled        354103 non-null  datetime64[ns]\n",
            " 1   price               354103 non-null  int32         \n",
            " 2   vehicle_type        354103 non-null  object        \n",
            " 3   registration_year   354103 non-null  int32         \n",
            " 4   gearbox             354103 non-null  object        \n",
            " 5   power               354103 non-null  int32         \n",
            " 6   model               354103 non-null  object        \n",
            " 7   mileage             354103 non-null  int64         \n",
            " 8   registration_month  354103 non-null  int32         \n",
            " 9   fuel_type           354103 non-null  object        \n",
            " 10  brand               354103 non-null  object        \n",
            " 11  not_repaired        354103 non-null  object        \n",
            " 12  date_created        354103 non-null  datetime64[ns]\n",
            " 13  number_of_pictures  354103 non-null  int32         \n",
            " 14  postal_code         354103 non-null  int64         \n",
            " 15  last_seen           354103 non-null  datetime64[ns]\n",
            "dtypes: datetime64[ns](3), int32(5), int64(2), object(6)\n",
            "memory usage: 39.2+ MB\n"
          ]
        }
      ]
    },
    {
      "cell_type": "markdown",
      "metadata": {
        "id": "OQf_Ebwocf6H"
      },
      "source": [
        "# <a id=\"3\"> Exploratory Data Analysis (EDA)"
      ]
    },
    {
      "cell_type": "markdown",
      "metadata": {
        "id": "r_IxWY5WckYB"
      },
      "source": [
        "- Adding a new column age of the vehicle"
      ]
    },
    {
      "cell_type": "code",
      "metadata": {
        "colab": {
          "base_uri": "https://localhost:8080/",
          "height": 313
        },
        "id": "eJMRqXCIKgQS",
        "outputId": "4b9119d8-be51-4edf-d610-dd38bdeae6cc"
      },
      "source": [
        "df['age'] = df['date_created'].dt.year - df['registration_year']\n",
        "df.head()"
      ],
      "execution_count": null,
      "outputs": [
        {
          "data": {
            "text/html": [
              "<div>\n",
              "<style scoped>\n",
              "    .dataframe tbody tr th:only-of-type {\n",
              "        vertical-align: middle;\n",
              "    }\n",
              "\n",
              "    .dataframe tbody tr th {\n",
              "        vertical-align: top;\n",
              "    }\n",
              "\n",
              "    .dataframe thead th {\n",
              "        text-align: right;\n",
              "    }\n",
              "</style>\n",
              "<table border=\"1\" class=\"dataframe\">\n",
              "  <thead>\n",
              "    <tr style=\"text-align: right;\">\n",
              "      <th></th>\n",
              "      <th>date_crawled</th>\n",
              "      <th>price</th>\n",
              "      <th>vehicle_type</th>\n",
              "      <th>registration_year</th>\n",
              "      <th>gearbox</th>\n",
              "      <th>power</th>\n",
              "      <th>model</th>\n",
              "      <th>mileage</th>\n",
              "      <th>registration_month</th>\n",
              "      <th>fuel_type</th>\n",
              "      <th>brand</th>\n",
              "      <th>not_repaired</th>\n",
              "      <th>date_created</th>\n",
              "      <th>number_of_pictures</th>\n",
              "      <th>postal_code</th>\n",
              "      <th>last_seen</th>\n",
              "      <th>age</th>\n",
              "    </tr>\n",
              "  </thead>\n",
              "  <tbody>\n",
              "    <tr>\n",
              "      <th>0</th>\n",
              "      <td>2016-03-24 11:52:00</td>\n",
              "      <td>480</td>\n",
              "      <td>wagon</td>\n",
              "      <td>1993</td>\n",
              "      <td>manual</td>\n",
              "      <td>0</td>\n",
              "      <td>golf</td>\n",
              "      <td>150000</td>\n",
              "      <td>0</td>\n",
              "      <td>petrol</td>\n",
              "      <td>volkswagen</td>\n",
              "      <td>unknown</td>\n",
              "      <td>2016-03-24</td>\n",
              "      <td>0</td>\n",
              "      <td>70435</td>\n",
              "      <td>2016-07-04 03:16:00</td>\n",
              "      <td>23</td>\n",
              "    </tr>\n",
              "    <tr>\n",
              "      <th>1</th>\n",
              "      <td>2016-03-24 10:58:00</td>\n",
              "      <td>18300</td>\n",
              "      <td>coupe</td>\n",
              "      <td>2011</td>\n",
              "      <td>manual</td>\n",
              "      <td>190</td>\n",
              "      <td>a1</td>\n",
              "      <td>125000</td>\n",
              "      <td>5</td>\n",
              "      <td>gasoline</td>\n",
              "      <td>audi</td>\n",
              "      <td>yes</td>\n",
              "      <td>2016-03-24</td>\n",
              "      <td>0</td>\n",
              "      <td>66954</td>\n",
              "      <td>2016-07-04 01:46:00</td>\n",
              "      <td>5</td>\n",
              "    </tr>\n",
              "    <tr>\n",
              "      <th>2</th>\n",
              "      <td>2016-03-14 12:52:00</td>\n",
              "      <td>9800</td>\n",
              "      <td>suv</td>\n",
              "      <td>2004</td>\n",
              "      <td>auto</td>\n",
              "      <td>163</td>\n",
              "      <td>grand</td>\n",
              "      <td>125000</td>\n",
              "      <td>8</td>\n",
              "      <td>gasoline</td>\n",
              "      <td>jeep</td>\n",
              "      <td>unknown</td>\n",
              "      <td>2016-03-14</td>\n",
              "      <td>0</td>\n",
              "      <td>90480</td>\n",
              "      <td>2016-05-04 12:47:00</td>\n",
              "      <td>12</td>\n",
              "    </tr>\n",
              "    <tr>\n",
              "      <th>3</th>\n",
              "      <td>2016-03-17 16:54:00</td>\n",
              "      <td>1500</td>\n",
              "      <td>small</td>\n",
              "      <td>2001</td>\n",
              "      <td>manual</td>\n",
              "      <td>75</td>\n",
              "      <td>golf</td>\n",
              "      <td>150000</td>\n",
              "      <td>6</td>\n",
              "      <td>petrol</td>\n",
              "      <td>volkswagen</td>\n",
              "      <td>no</td>\n",
              "      <td>2016-03-17</td>\n",
              "      <td>0</td>\n",
              "      <td>91074</td>\n",
              "      <td>2016-03-17 17:40:00</td>\n",
              "      <td>15</td>\n",
              "    </tr>\n",
              "    <tr>\n",
              "      <th>4</th>\n",
              "      <td>2016-03-31 17:25:00</td>\n",
              "      <td>3600</td>\n",
              "      <td>small</td>\n",
              "      <td>2008</td>\n",
              "      <td>manual</td>\n",
              "      <td>69</td>\n",
              "      <td>fabia</td>\n",
              "      <td>90000</td>\n",
              "      <td>7</td>\n",
              "      <td>gasoline</td>\n",
              "      <td>skoda</td>\n",
              "      <td>no</td>\n",
              "      <td>2016-03-31</td>\n",
              "      <td>0</td>\n",
              "      <td>60437</td>\n",
              "      <td>2016-06-04 10:17:00</td>\n",
              "      <td>8</td>\n",
              "    </tr>\n",
              "  </tbody>\n",
              "</table>\n",
              "</div>"
            ],
            "text/plain": [
              "         date_crawled  price vehicle_type  ...  postal_code           last_seen  age\n",
              "0 2016-03-24 11:52:00    480        wagon  ...        70435 2016-07-04 03:16:00   23\n",
              "1 2016-03-24 10:58:00  18300        coupe  ...        66954 2016-07-04 01:46:00    5\n",
              "2 2016-03-14 12:52:00   9800          suv  ...        90480 2016-05-04 12:47:00   12\n",
              "3 2016-03-17 16:54:00   1500        small  ...        91074 2016-03-17 17:40:00   15\n",
              "4 2016-03-31 17:25:00   3600        small  ...        60437 2016-06-04 10:17:00    8\n",
              "\n",
              "[5 rows x 17 columns]"
            ]
          },
          "execution_count": 26,
          "metadata": {},
          "output_type": "execute_result"
        }
      ]
    },
    {
      "cell_type": "markdown",
      "metadata": {
        "id": "EU8dNbo9crIU"
      },
      "source": [
        "********************************"
      ]
    },
    {
      "cell_type": "markdown",
      "metadata": {
        "id": "9FIL1AjLcoaH"
      },
      "source": [
        "**Checking correlation**"
      ]
    },
    {
      "cell_type": "code",
      "metadata": {
        "id": "4onJB0HnKgQT"
      },
      "source": [
        "def corr_matrix(df, label):\n",
        "    plt.figure(figsize=(7,7))\n",
        "    corrMatrix = df.corr()\n",
        "    sns.heatmap(corrMatrix, annot=True)\n",
        "    plt.title('Correlation matrix for ' + label)\n",
        "    plt.show()\n",
        "    \n",
        "def plot_snsbar(df, x, y, title):\n",
        "    xlabel = str(x.replace('_', ' ').capitalize())\n",
        "    ylabel = str(y.replace('_', ' ').capitalize())\n",
        "    # create grouped data\n",
        "    data = df.groupby([x])[y].count().sort_values(ascending=False).reset_index()\n",
        "    fig, ax=plt.subplots(figsize=(12,6))\n",
        "    ax = sns.barplot(x = x, y = y, data=data)\n",
        "    ax.set_title(title, fontdict={'size':12})\n",
        "    ax.set_ylabel(ylabel, fontsize = 10)\n",
        "    ax.set_xlabel(xlabel, fontsize = 10)\n",
        "    ax.set_xticklabels(data[x], rotation=90);"
      ],
      "execution_count": null,
      "outputs": []
    },
    {
      "cell_type": "code",
      "metadata": {
        "colab": {
          "base_uri": "https://localhost:8080/",
          "height": 444
        },
        "id": "hd9-Ti9YKgQT",
        "outputId": "26476764-da8b-4f29-a05c-e4ef170740d1"
      },
      "source": [
        "# correlation matrix\n",
        "corr_df = df[['price', 'power', 'mileage', 'age']]\n",
        "corr_matrix(corr_df, 'used car data')"
      ],
      "execution_count": null,
      "outputs": [
        {
          "data": {
            "image/png": "[encoded data removed]",
            "text/plain": [
              "<Figure size 504x504 with 2 Axes>"
            ]
          },
          "metadata": {
            "needs_background": "light"
          },
          "output_type": "display_data"
        }
      ]
    },
    {
      "cell_type": "markdown",
      "metadata": {
        "id": "QaMY210Hc5oK"
      },
      "source": [
        "- From the correlation matrix we can see that a little or no correlation among those variables."
      ]
    },
    {
      "cell_type": "markdown",
      "metadata": {
        "id": "SqQ7ByiUdDEV"
      },
      "source": [
        "- histogram of selected variables"
      ]
    },
    {
      "cell_type": "code",
      "metadata": {
        "colab": {
          "base_uri": "https://localhost:8080/",
          "height": 642
        },
        "id": "PgJF_Z2SKgQU",
        "outputId": "6fba03a7-d154-4c03-9e6d-92d809033e54"
      },
      "source": [
        "df[['price', 'power', 'mileage', 'age']].hist(bins=30, figsize=(15, 10))\n",
        "plt.suptitle('Histogram of selected parameters', y=0.95);"
      ],
      "execution_count": null,
      "outputs": [
        {
          "data": {
            "image/png": "[encoded data removed]",
            "text/plain": [
              "<Figure size 1080x720 with 4 Axes>"
            ]
          },
          "metadata": {
            "needs_background": "light"
          },
          "output_type": "display_data"
        }
      ]
    },
    {
      "cell_type": "markdown",
      "metadata": {
        "id": "rYUV4vQHdR8Z"
      },
      "source": [
        "From the Histograms we can say that:\n",
        "- most of the cars `price` are between 0 to 7500 e\n",
        "- most of cars have `mileage` > than 80,000 miles\n",
        "- we have some cars `age` that are negatives. \n",
        "- we should remove outliers."
      ]
    },
    {
      "cell_type": "markdown",
      "metadata": {
        "id": "OtiEoGesdUG-"
      },
      "source": [
        "**numerical vs categorical variables**"
      ]
    },
    {
      "cell_type": "code",
      "metadata": {
        "colab": {
          "base_uri": "https://localhost:8080/"
        },
        "id": "GM-iJpnvKgQU",
        "outputId": "35f10977-2d58-454e-a08c-ef88e36c101f"
      },
      "source": [
        "num_list = []\n",
        "cat_list = []\n",
        "plot_data = df[['price', 'vehicle_type', 'gearbox', 'power', 'mileage', 'fuel_type', 'brand', 'not_repaired', 'age']]\n",
        "\n",
        "for column in plot_data:\n",
        "    if is_numeric_dtype(plot_data[column]):\n",
        "        num_list.append(column)\n",
        "    elif is_string_dtype(plot_data[column]):\n",
        "        cat_list.append(column)\n",
        "        \n",
        "print(num_list)\n",
        "print(cat_list)"
      ],
      "execution_count": null,
      "outputs": [
        {
          "name": "stdout",
          "output_type": "stream",
          "text": [
            "['price', 'power', 'mileage', 'age']\n",
            "['vehicle_type', 'gearbox', 'fuel_type', 'brand', 'not_repaired']\n"
          ]
        }
      ]
    },
    {
      "cell_type": "markdown",
      "metadata": {
        "id": "vNbjCzYYdoUS"
      },
      "source": [
        "- create histogram and bar chart"
      ]
    },
    {
      "cell_type": "code",
      "metadata": {
        "colab": {
          "base_uri": "https://localhost:8080/",
          "height": 1000
        },
        "id": "6BQ9u5R_KgQU",
        "outputId": "551ec056-6642-4549-c890-e422c0ceedea"
      },
      "source": [
        "for column in plot_data:\n",
        "    plt.figure(column)\n",
        "    plt.xlabel(column)\n",
        "    plt.ylabel('frequency')\n",
        "    plt.title('Histogram of ' + column)\n",
        "    if is_numeric_dtype(plot_data[column]):\n",
        "        df[column].plot(kind = 'hist')\n",
        "    elif is_string_dtype(plot_data[column]):\n",
        "        df[column].value_counts().plot(kind = 'bar')"
      ],
      "execution_count": null,
      "outputs": [
        {
          "data": {
            "image/png": "[encoded data removed]",
            "text/plain": [
              "<Figure size 432x288 with 1 Axes>"
            ]
          },
          "metadata": {
            "needs_background": "light"
          },
          "output_type": "display_data"
        },
        {
          "data": {
            "image/png": "[encoded data removed]",
            "text/plain": [
              "<Figure size 432x288 with 1 Axes>"
            ]
          },
          "metadata": {
            "needs_background": "light"
          },
          "output_type": "display_data"
        },
        {
          "data": {
            "image/png": "[encoded data removed]",
            "text/plain": [
              "<Figure size 432x288 with 1 Axes>"
            ]
          },
          "metadata": {
            "needs_background": "light"
          },
          "output_type": "display_data"
        },
        {
          "data": {
            "image/png": "[encoded data removed]",
            "text/plain": [
              "<Figure size 432x288 with 1 Axes>"
            ]
          },
          "metadata": {
            "needs_background": "light"
          },
          "output_type": "display_data"
        },
        {
          "data": {
            "image/png": "[encoded data removed]",
            "text/plain": [
              "<Figure size 432x288 with 1 Axes>"
            ]
          },
          "metadata": {
            "needs_background": "light"
          },
          "output_type": "display_data"
        },
        {
          "data": {
            "image/png": "[encoded data removed]",
            "text/plain": [
              "<Figure size 432x288 with 1 Axes>"
            ]
          },
          "metadata": {
            "needs_background": "light"
          },
          "output_type": "display_data"
        },
        {
          "data": {
            "image/png": "[encoded data removed]",
            "text/plain": [
              "<Figure size 432x288 with 1 Axes>"
            ]
          },
          "metadata": {
            "needs_background": "light"
          },
          "output_type": "display_data"
        },
        {
          "data": {
            "image/png": "[encoded data removed]",
            "text/plain": [
              "<Figure size 432x288 with 1 Axes>"
            ]
          },
          "metadata": {
            "needs_background": "light"
          },
          "output_type": "display_data"
        },
        {
          "data": {
            "image/png": "[encoded data removed]",
            "text/plain": [
              "<Figure size 432x288 with 1 Axes>"
            ]
          },
          "metadata": {
            "needs_background": "light"
          },
          "output_type": "display_data"
        }
      ]
    },
    {
      "cell_type": "markdown",
      "metadata": {
        "id": "pvhnSVhudtC1"
      },
      "source": [
        "- We can see that:\n",
        "  - in `age`: an anomaly in the histogram, negative values of age."
      ]
    },
    {
      "cell_type": "markdown",
      "metadata": {
        "id": "oE84WLvRd48X"
      },
      "source": [
        "- Top selling brands:\n"
      ]
    },
    {
      "cell_type": "code",
      "metadata": {
        "colab": {
          "base_uri": "https://localhost:8080/",
          "height": 472
        },
        "id": "M-2gi6bUKgQU",
        "outputId": "bde6d75c-f96c-4299-f0c9-4bb4318ab7ee"
      },
      "source": [
        "plot_snsbar(df, 'brand', 'price', 'Plot of total price of used car versus brands')"
      ],
      "execution_count": null,
      "outputs": [
        {
          "data": {
            "image/png": "[encoded data removed]",
            "text/plain": [
              "<Figure size 864x432 with 1 Axes>"
            ]
          },
          "metadata": {
            "needs_background": "light"
          },
          "output_type": "display_data"
        }
      ]
    },
    {
      "cell_type": "markdown",
      "metadata": {
        "id": "wVu32_zIeEu4"
      },
      "source": [
        "- we can see that the top 10 selling brands in terms of price are \n",
        "    - volkswagen, opel, bmw, mercedes benz, audi, ford, renault, peugeot, fiat and seat\n",
        "- The most sold vehicle_type is the *sedan* \n",
        "- the *manual* gearbox is the most represented amongst vehicles sold. \n",
        "- more cars which are not repaired are represented in the dataset. \n",
        "- Most of sold cars use petrol or gasoline."
      ]
    },
    {
      "cell_type": "markdown",
      "metadata": {
        "id": "dGlP3QIjA3Jx"
      },
      "source": [
        "<div class=\"alert alert-block alert-success\">\n",
        "<b>Success:</b> Glad to see that you've visualized correlations, distributions and made analysis.\n",
        "</div>"
      ]
    },
    {
      "cell_type": "markdown",
      "metadata": {
        "id": "k6RdKF8HeHwL"
      },
      "source": [
        "## Handling Outliers"
      ]
    },
    {
      "cell_type": "markdown",
      "metadata": {
        "id": "xo8tdk6WeJyd"
      },
      "source": [
        "Our approach to handle outliers is to:\n",
        "- filter the data for vehicle power less than 2,039 hp (the highest horsepower car is the Aspark Owl at 2,039 hp)\n",
        "\n",
        "- filter the age features that are negative. "
      ]
    },
    {
      "cell_type": "code",
      "metadata": {
        "colab": {
          "base_uri": "https://localhost:8080/",
          "height": 335
        },
        "id": "QNh--vmzKgQV",
        "outputId": "b743de2b-f618-4026-ca5e-1dc73c10b138"
      },
      "source": [
        "df_filtered = df[(df['power'] <= 2039) & (df['age'] >= 0)]\n",
        "print(f'The shape of the new dataset is: {df_filtered.shape}')\n",
        "print()\n",
        "df_filtered.describe()"
      ],
      "execution_count": null,
      "outputs": [
        {
          "name": "stdout",
          "output_type": "stream",
          "text": [
            "The shape of the new dataset is: (339476, 17)\n",
            "\n"
          ]
        },
        {
          "data": {
            "text/html": [
              "<div>\n",
              "<style scoped>\n",
              "    .dataframe tbody tr th:only-of-type {\n",
              "        vertical-align: middle;\n",
              "    }\n",
              "\n",
              "    .dataframe tbody tr th {\n",
              "        vertical-align: top;\n",
              "    }\n",
              "\n",
              "    .dataframe thead th {\n",
              "        text-align: right;\n",
              "    }\n",
              "</style>\n",
              "<table border=\"1\" class=\"dataframe\">\n",
              "  <thead>\n",
              "    <tr style=\"text-align: right;\">\n",
              "      <th></th>\n",
              "      <th>price</th>\n",
              "      <th>registration_year</th>\n",
              "      <th>power</th>\n",
              "      <th>mileage</th>\n",
              "      <th>registration_month</th>\n",
              "      <th>number_of_pictures</th>\n",
              "      <th>postal_code</th>\n",
              "      <th>age</th>\n",
              "    </tr>\n",
              "  </thead>\n",
              "  <tbody>\n",
              "    <tr>\n",
              "      <th>count</th>\n",
              "      <td>339476.000000</td>\n",
              "      <td>339476.000000</td>\n",
              "      <td>339476.000000</td>\n",
              "      <td>339476.000000</td>\n",
              "      <td>339476.000000</td>\n",
              "      <td>339476.0</td>\n",
              "      <td>339476.000000</td>\n",
              "      <td>339476.000000</td>\n",
              "    </tr>\n",
              "    <tr>\n",
              "      <th>mean</th>\n",
              "      <td>4470.792436</td>\n",
              "      <td>2002.322618</td>\n",
              "      <td>108.435960</td>\n",
              "      <td>128066.593809</td>\n",
              "      <td>5.754802</td>\n",
              "      <td>0.0</td>\n",
              "      <td>50604.920280</td>\n",
              "      <td>13.677303</td>\n",
              "    </tr>\n",
              "    <tr>\n",
              "      <th>std</th>\n",
              "      <td>4546.341515</td>\n",
              "      <td>13.952577</td>\n",
              "      <td>72.160335</td>\n",
              "      <td>37926.588036</td>\n",
              "      <td>3.708776</td>\n",
              "      <td>0.0</td>\n",
              "      <td>25808.091058</td>\n",
              "      <td>13.952588</td>\n",
              "    </tr>\n",
              "    <tr>\n",
              "      <th>min</th>\n",
              "      <td>0.000000</td>\n",
              "      <td>1000.000000</td>\n",
              "      <td>0.000000</td>\n",
              "      <td>5000.000000</td>\n",
              "      <td>0.000000</td>\n",
              "      <td>0.0</td>\n",
              "      <td>1067.000000</td>\n",
              "      <td>0.000000</td>\n",
              "    </tr>\n",
              "    <tr>\n",
              "      <th>25%</th>\n",
              "      <td>1099.000000</td>\n",
              "      <td>1999.000000</td>\n",
              "      <td>69.000000</td>\n",
              "      <td>125000.000000</td>\n",
              "      <td>3.000000</td>\n",
              "      <td>0.0</td>\n",
              "      <td>30169.000000</td>\n",
              "      <td>9.000000</td>\n",
              "    </tr>\n",
              "    <tr>\n",
              "      <th>50%</th>\n",
              "      <td>2799.000000</td>\n",
              "      <td>2003.000000</td>\n",
              "      <td>105.000000</td>\n",
              "      <td>150000.000000</td>\n",
              "      <td>6.000000</td>\n",
              "      <td>0.0</td>\n",
              "      <td>49492.000000</td>\n",
              "      <td>13.000000</td>\n",
              "    </tr>\n",
              "    <tr>\n",
              "      <th>75%</th>\n",
              "      <td>6500.000000</td>\n",
              "      <td>2007.000000</td>\n",
              "      <td>143.000000</td>\n",
              "      <td>150000.000000</td>\n",
              "      <td>9.000000</td>\n",
              "      <td>0.0</td>\n",
              "      <td>71229.000000</td>\n",
              "      <td>17.000000</td>\n",
              "    </tr>\n",
              "    <tr>\n",
              "      <th>max</th>\n",
              "      <td>20000.000000</td>\n",
              "      <td>2016.000000</td>\n",
              "      <td>2018.000000</td>\n",
              "      <td>150000.000000</td>\n",
              "      <td>12.000000</td>\n",
              "      <td>0.0</td>\n",
              "      <td>99998.000000</td>\n",
              "      <td>1016.000000</td>\n",
              "    </tr>\n",
              "  </tbody>\n",
              "</table>\n",
              "</div>"
            ],
            "text/plain": [
              "               price  registration_year  ...    postal_code            age\n",
              "count  339476.000000      339476.000000  ...  339476.000000  339476.000000\n",
              "mean     4470.792436        2002.322618  ...   50604.920280      13.677303\n",
              "std      4546.341515          13.952577  ...   25808.091058      13.952588\n",
              "min         0.000000        1000.000000  ...    1067.000000       0.000000\n",
              "25%      1099.000000        1999.000000  ...   30169.000000       9.000000\n",
              "50%      2799.000000        2003.000000  ...   49492.000000      13.000000\n",
              "75%      6500.000000        2007.000000  ...   71229.000000      17.000000\n",
              "max     20000.000000        2016.000000  ...   99998.000000    1016.000000\n",
              "\n",
              "[8 rows x 8 columns]"
            ]
          },
          "execution_count": 33,
          "metadata": {},
          "output_type": "execute_result"
        }
      ]
    },
    {
      "cell_type": "markdown",
      "metadata": {
        "id": "besAJ_K-eWRP"
      },
      "source": [
        "- Now the data is ready for model training"
      ]
    },
    {
      "cell_type": "markdown",
      "metadata": {
        "id": "QSe_PO7UA3Jy"
      },
      "source": [
        "<div class=\"alert alert-block alert-info\">\n",
        "<b>Improve: </b> What about registration year = 1000, power = 0, registration_month = 0, ...?\n",
        "</div>"
      ]
    },
    {
      "cell_type": "markdown",
      "metadata": {
        "id": "PO_NwT-PeaEm"
      },
      "source": [
        "# <a id=\"3\"> Model training\n"
      ]
    },
    {
      "cell_type": "markdown",
      "metadata": {
        "id": "Viq0JOHvecJ-"
      },
      "source": [
        "- Drop unimportant features"
      ]
    },
    {
      "cell_type": "code",
      "metadata": {
        "id": "HTa327ldKgQV"
      },
      "source": [
        "car_df = df_filtered.drop(['date_crawled', 'registration_year', 'registration_month', 'date_created', 'number_of_pictures', 'postal_code', 'last_seen'], axis=1)\n",
        "\n",
        "# target and features\n",
        "y = car_df.price\n",
        "X = car_df.drop(['price'], axis=1)\n",
        "\n",
        "# 75% training and 25% testing sets\n",
        "X_train, X_test, y_train, y_test = train_test_split(X, y, test_size=0.25, random_state=12345)"
      ],
      "execution_count": null,
      "outputs": []
    },
    {
      "cell_type": "markdown",
      "metadata": {
        "id": "NbScqP7dA3Jz"
      },
      "source": [
        "<div class=\"alert alert-block alert-success\">\n",
        "<b>Success:</b> I agree that we don't need dates, constant feature and postal code.\n",
        "</div>"
      ]
    },
    {
      "cell_type": "markdown",
      "metadata": {
        "id": "xllWCwTser5o"
      },
      "source": [
        "### Check to see effect of cardinality on Categorical Variables\n"
      ]
    },
    {
      "cell_type": "markdown",
      "metadata": {
        "id": "kZfzwbxCeuYk"
      },
      "source": [
        "- Let's begin by training different models with various hyperparameters. \n",
        "- We will compare gradient boosting methods with:\n",
        "    - Random Forest, \n",
        "    - Decision Tree, \n",
        "    - Linear Regression. \n",
        "- We will use RMSE metric evaluate the models."
      ]
    },
    {
      "cell_type": "code",
      "metadata": {
        "colab": {
          "base_uri": "https://localhost:8080/"
        },
        "id": "H6-xO55jKgQV",
        "outputId": "85b36930-62bb-4c86-97e6-6ea1aa6ab013"
      },
      "source": [
        "# categorical columns with relatively low cardinality\n",
        "low_cardinality_cols = [cname for cname in X_train.columns if X_train[cname].nunique() < 10 and X_train[cname].dtype == 'object']\n",
        "\n",
        "# numerical columns\n",
        "numerical_cols = [cname for cname in X_train.columns if X_train[cname].dtype in ['int64', 'int32']]\n",
        "\n",
        "# keep selected columns only\n",
        "my_cols = low_cardinality_cols + numerical_cols\n",
        "features_train = X_train[my_cols].copy()\n",
        "features_test = X_test[my_cols].copy()\n",
        "\n",
        "# list of categorical variables\n",
        "s = (features_train.dtypes == 'object')\n",
        "object_cols = list(s[s].index)\n",
        "print('Categorical variables:')\n",
        "print(object_cols)"
      ],
      "execution_count": null,
      "outputs": [
        {
          "name": "stdout",
          "output_type": "stream",
          "text": [
            "Categorical variables:\n",
            "['vehicle_type', 'gearbox', 'fuel_type', 'not_repaired']\n"
          ]
        }
      ]
    },
    {
      "cell_type": "markdown",
      "metadata": {
        "id": "VOlv7jrVe-mI"
      },
      "source": [
        "- **Comparing different approaches**"
      ]
    },
    {
      "cell_type": "code",
      "metadata": {
        "id": "yWRMz6niKgQW"
      },
      "source": [
        "def score_dataset(X_train, X_test, y_train, y_test):\n",
        "    model = RandomForestRegressor(n_estimators=100, random_state=0)\n",
        "    model.fit(X_train, y_train)\n",
        "    y_pred = model.predict(X_test)\n",
        "    return np.sqrt(mean_squared_error(y_test, y_pred))"
      ],
      "execution_count": null,
      "outputs": []
    },
    {
      "cell_type": "markdown",
      "metadata": {
        "id": "-2rnIvs9fA5q"
      },
      "source": [
        "- Approach 1: Ordinal Encoding:"
      ]
    },
    {
      "cell_type": "code",
      "metadata": {
        "colab": {
          "base_uri": "https://localhost:8080/"
        },
        "id": "CajseYckKgQW",
        "outputId": "f8c7fa3b-523f-4b61-d047-b5a48bd26cee"
      },
      "source": [
        "%%time\n",
        "# make a copy to avoid changing original data\n",
        "label_X_train = features_train.copy()\n",
        "label_X_test = features_test.copy()\n",
        "\n",
        "# apply ordinal encoder to each column with categorical data\n",
        "ordinal_encoder = OrdinalEncoder()\n",
        "label_X_train[object_cols] = ordinal_encoder.fit_transform(features_train[object_cols])\n",
        "label_X_test[object_cols] = ordinal_encoder.transform(features_test[object_cols])\n",
        "\n",
        "print('RMSE from Approach 1: Ordinal Encoding')\n",
        "print(score_dataset(label_X_train, label_X_test, y_train, y_test))"
      ],
      "execution_count": null,
      "outputs": [
        {
          "name": "stdout",
          "output_type": "stream",
          "text": [
            "RMSE from Approach 1: Ordinal Encoding\n",
            "1943.9330376245562\n",
            "CPU times: user 49.5 s, sys: 1.12 s, total: 50.6 s\n",
            "Wall time: 50.4 s\n"
          ]
        }
      ]
    },
    {
      "cell_type": "markdown",
      "metadata": {
        "id": "wuMMOOpmfG3U"
      },
      "source": [
        "- Approach 2: One-Hot Encoding"
      ]
    },
    {
      "cell_type": "code",
      "metadata": {
        "colab": {
          "base_uri": "https://localhost:8080/"
        },
        "id": "LxlqD5xbKgQX",
        "outputId": "0c341c15-9f78-44b3-8158-d7c4d71691b1"
      },
      "source": [
        "%%time\n",
        "\n",
        "# apply one-hot encoding to each column with categorical data\n",
        "OH_encoder = OneHotEncoder(handle_unknown='ignore', sparse=False)\n",
        "OH_cols_train = pd.DataFrame(\n",
        "    OH_encoder.fit_transform(features_train[object_cols]))\n",
        "OH_cols_test = pd.DataFrame(OH_encoder.transform(features_test[object_cols]))\n",
        "\n",
        "# One-Hot encoding removed index; put it back\n",
        "OH_cols_train.index = features_train.index\n",
        "OH_cols_test.index = features_test.index\n",
        "\n",
        "# remove categorical columns (will replace with one-hot encoding)\n",
        "num_X_train = features_train.drop(object_cols, axis=1)\n",
        "num_X_test = features_test.drop(object_cols, axis=1)\n",
        "\n",
        "# add one-hot encoded columns to numerical features\n",
        "OH_X_train = pd.concat([num_X_train, OH_cols_train], axis=1)\n",
        "OH_X_test = pd.concat([num_X_test, OH_cols_test], axis=1)\n",
        "\n",
        "print('RMSE from Approach 2: One-Hot Encoding')\n",
        "print(score_dataset(OH_X_train, OH_X_test, y_train, y_test))"
      ],
      "execution_count": null,
      "outputs": [
        {
          "name": "stdout",
          "output_type": "stream",
          "text": [
            "RMSE from Approach 2: One-Hot Encoding\n",
            "1938.6305638511376\n",
            "CPU times: user 1min 29s, sys: 500 ms, total: 1min 30s\n",
            "Wall time: 1min 29s\n"
          ]
        }
      ]
    },
    {
      "cell_type": "markdown",
      "metadata": {
        "id": "X9yfai3efNDD"
      },
      "source": [
        "- One-Hot encoding seems to be the best approach (lowest RMSE score), but we have the RMSE score for both approaches are so close."
      ]
    },
    {
      "cell_type": "markdown",
      "metadata": {
        "id": "Nvtm-W02fflQ"
      },
      "source": [
        "## Linear Regression for sanity check"
      ]
    },
    {
      "cell_type": "code",
      "metadata": {
        "id": "BbLJMq5iKgQX"
      },
      "source": [
        "# one-hot encoding of categorical features\n",
        "car_df_ohe = pd.get_dummies(car_df, drop_first=True)\n",
        "\n",
        "# declare variables for target and features\n",
        "y_ohe = car_df_ohe.price\n",
        "X_ohe = car_df_ohe.drop(['price'], axis=1)\n",
        "\n",
        "# split data into 75% training and 25% testing sets\n",
        "X_train_ohe, X_test_ohe, y_train_ohe, y_test_ohe = train_test_split(X_ohe, y_ohe, test_size=0.25, random_state=12345)\n",
        "\n",
        "# numerical features\n",
        "numerical_cols = [cname for cname in X_train_ohe.columns if X_train_ohe[cname].dtype in ['int64', 'int32']]\n",
        "\n",
        "# features scaling\n",
        "scaler = StandardScaler()\n",
        "scaler.fit(X_train_ohe[numerical_cols])\n",
        "# transform the training set and the test set using transform()\n",
        "X_train_ohe[numerical_cols] = scaler.transform(X_train_ohe[numerical_cols])\n",
        "X_test_ohe[numerical_cols]  = scaler.transform(X_test_ohe[numerical_cols])"
      ],
      "execution_count": null,
      "outputs": []
    },
    {
      "cell_type": "markdown",
      "metadata": {
        "id": "y9BDbaWpA3J2"
      },
      "source": [
        "<div class=\"alert alert-block alert-success\">\n",
        "<b>Success:</b> Great that scaler was fitted only on train part.\n",
        "</div>"
      ]
    },
    {
      "cell_type": "code",
      "metadata": {
        "colab": {
          "base_uri": "https://localhost:8080/"
        },
        "id": "mGO9jE-bKgQY",
        "outputId": "1ca83bf9-626a-465a-d6a4-6e88f185ac6b"
      },
      "source": [
        "%%time\n",
        "# linear regression model\n",
        "lr_model = LinearRegression()\n",
        "lr_model.fit(X_train_ohe, y_train_ohe)\n",
        "lr_pred = lr_model.predict(X_test_ohe)\n",
        "\n",
        "# rmse for linear model\n",
        "lr_rmse = np.sqrt(mean_squared_error(y_test_ohe, lr_pred))\n",
        "print(\"\\033[1m\" + 'RMSE using Linear Regression' + \"\\033[0m\")\n",
        "print('RMSE: {:.3f}'.format(lr_rmse))"
      ],
      "execution_count": null,
      "outputs": [
        {
          "name": "stdout",
          "output_type": "stream",
          "text": [
            "\u001b[1mRMSE using Linear Regression\u001b[0m\n",
            "RMSE: 3060.063\n",
            "CPU times: user 8.44 s, sys: 858 ms, total: 9.29 s\n",
            "Wall time: 5.18 s\n"
          ]
        }
      ]
    },
    {
      "cell_type": "markdown",
      "metadata": {
        "id": "B_qKTSSNfmWI"
      },
      "source": [
        "## Random Forest Regressor"
      ]
    },
    {
      "cell_type": "code",
      "metadata": {
        "id": "SRZ5DNRoKgQZ"
      },
      "source": [
        "# declare variables for target and features\n",
        "y_le = car_df.price\n",
        "X_le = car_df.drop(['price'], axis=1)\n",
        "\n",
        "# split data into 75% training and 25% testing sets\n",
        "X_train_le, X_test_le, y_train_le, y_test_le = train_test_split(X_le, y_le, test_size=0.25, random_state=12345)\n",
        "\n",
        "# make a copy to avoid changing original data\n",
        "label__X_train = X_train_le.copy()\n",
        "label__X_test = X_test_le.copy()\n",
        "\n",
        "# categorical features\n",
        "categorical_cols = [cname for cname in X_train_le.columns if X_train_le[cname].dtype == 'object']"
      ],
      "execution_count": null,
      "outputs": []
    },
    {
      "cell_type": "code",
      "metadata": {
        "id": "qRHa8qX4KgQZ"
      },
      "source": [
        "# apply ordinal encoder to each column with categorical data\n",
        "ordinal_encoder = OrdinalEncoder()\n",
        "label__X_train[categorical_cols] = ordinal_encoder.fit_transform(X_train_le[categorical_cols])"
      ],
      "execution_count": null,
      "outputs": []
    },
    {
      "cell_type": "code",
      "metadata": {
        "id": "wJXgtvTHKgQZ"
      },
      "source": [
        "label__X_test[categorical_cols] = ordinal_encoder.transform(X_test_le[categorical_cols])"
      ],
      "execution_count": null,
      "outputs": []
    },
    {
      "cell_type": "code",
      "metadata": {
        "colab": {
          "base_uri": "https://localhost:8080/"
        },
        "id": "NOp0wyfQKgQZ",
        "outputId": "b066461d-ca8a-4cc0-a9e3-2085961ce92b"
      },
      "source": [
        "%%time\n",
        "# hyperparameter optimization\n",
        "\n",
        "# define hyperparameters to tune\n",
        "grid = {\n",
        "    \"n_estimators\" : [10, 25, 50],\n",
        "    \"max_depth\" : [None, 2, 4, 8],\n",
        "    \"min_samples_leaf\" : [2, 4, 6]\n",
        "}\n",
        "# define the model \n",
        "regressor = RandomForestRegressor(random_state = 12345)\n",
        "# define the grid search\n",
        "grid_search_rf = GridSearchCV(estimator = regressor, param_grid = grid, scoring=\"neg_mean_squared_error\", cv=5)\n",
        "# execute search\n",
        "grid_search_rf.fit(label__X_train, y_train_le)\n",
        "# summarize result\n",
        "print('The best hyperparameters are: {}'.format(grid_search_rf.best_params_))"
      ],
      "execution_count": null,
      "outputs": [
        {
          "name": "stdout",
          "output_type": "stream",
          "text": [
            "The best hyperparameters are: {'max_depth': None, 'min_samples_leaf': 2, 'n_estimators': 50}\n",
            "CPU times: user 21min 34s, sys: 4.02 s, total: 21min 38s\n",
            "Wall time: 21min 33s\n"
          ]
        }
      ]
    },
    {
      "cell_type": "markdown",
      "metadata": {
        "id": "zuJNH3s5A3J4"
      },
      "source": [
        "<div class=\"alert alert-block alert-success\">\n",
        "<b>Success:</b> Glad to see that cross-validation based method with our target function was used for parameters tuning.\n",
        "</div>"
      ]
    },
    {
      "cell_type": "code",
      "metadata": {
        "id": "d4aUL3C4KgQZ"
      },
      "source": [
        "# create the random forest regressor model\n",
        "def random_forest_regressor(X_train, y_train, X_test, y_test):\n",
        "    \"\"\"\n",
        "    This is a random forest regressor function developed to train\n",
        "    the model, make prediction on testing dataset, \n",
        "    and compute evaluation metrics for testing datasets\n",
        "    \"\"\"\n",
        "    # build the model\n",
        "    model = RandomForestRegressor(**grid_search_rf.best_params_)\n",
        "    model.fit(X_train, y_train) # train the model \n",
        "    # make predictions on testing set\n",
        "    y_pred = model.predict(X_test)\n",
        "    # compute RMSE for random forest    \n",
        "    print('RMSE: {:.3f}'.format(np.sqrt(mean_squared_error(y_test, y_pred))))"
      ],
      "execution_count": null,
      "outputs": []
    },
    {
      "cell_type": "code",
      "metadata": {
        "colab": {
          "base_uri": "https://localhost:8080/"
        },
        "id": "sLB1bo6AKgQa",
        "outputId": "cd1ea9cb-9b0a-470c-813e-50f6661b84bc"
      },
      "source": [
        "%%time\n",
        "# determine RMSE for random forest regressor\n",
        "print(\"\\033[1m\" + 'RMSE using Random Forest Regressor' + \"\\033[0m\")\n",
        "random_forest_regressor(label__X_train, y_train_le, label__X_test, y_test_le)"
      ],
      "execution_count": null,
      "outputs": [
        {
          "name": "stdout",
          "output_type": "stream",
          "text": [
            "\u001b[1mRMSE using Random Forest Regressor\u001b[0m\n",
            "RMSE: 1720.432\n",
            "CPU times: user 34 s, sys: 55 ms, total: 34 s\n",
            "Wall time: 33.9 s\n"
          ]
        }
      ]
    },
    {
      "cell_type": "markdown",
      "metadata": {
        "id": "j9KyDQJ8fyP-"
      },
      "source": [
        "## CatBoost Regressor"
      ]
    },
    {
      "cell_type": "markdown",
      "metadata": {
        "id": "w3RptvIyfzmz"
      },
      "source": [
        "- For CatBoost, we create a separate dataset without encoding.\n",
        "- then, CatBoost encodes the categorical features, \n",
        "- We can tune hyperparameters learning_rate, depth, and 12_leaf_reg and apply a grid search across the train set.\n",
        "- then, we fit the training set to make predictions on the test set."
      ]
    },
    {
      "cell_type": "code",
      "metadata": {
        "id": "ptB06pVnKgQa"
      },
      "source": [
        "# declare variables for target and features\n",
        "y_cb = car_df.price\n",
        "X_cb = car_df.drop(['price'], axis=1)\n",
        "\n",
        "# split data into 75% training and 25% testing sets\n",
        "X_train_cb, X_test_cb, y_train_cb, y_test_cb = train_test_split(X_cb, y_cb, test_size=0.25, random_state=12345)\n",
        "\n",
        "cat_features = [\n",
        "    'vehicle_type', \n",
        "    'gearbox', \n",
        "    'model', \n",
        "    'fuel_type', \n",
        "    'brand', \n",
        "    'not_repaired'\n",
        "]"
      ],
      "execution_count": null,
      "outputs": []
    },
    {
      "cell_type": "code",
      "metadata": {
        "colab": {
          "base_uri": "https://localhost:8080/"
        },
        "id": "3TNb23xwKgQa",
        "outputId": "e09a6620-5b2e-417c-a057-8c84b14d7b55"
      },
      "source": [
        "%%time\n",
        "# hyperparameter optimization\n",
        "\n",
        "# define hyperparameters to tune\n",
        "grid = {'learning_rate': [0.001, 0.01, 0.5],\n",
        "        'depth': [4, 6],\n",
        "        'l2_leaf_reg': [1, 3, 5]\n",
        "       }\n",
        "# define the model \n",
        "cb_regr = CatBoostRegressor(\n",
        "    iterations=50,\n",
        "    cat_features=cat_features,\n",
        "    logging_level = 'Silent',\n",
        "    loss_function='RMSE',\n",
        "    early_stopping_rounds = 50,\n",
        "    random_state = 12345)\n",
        "# define the grid search\n",
        "grid_search_cb = GridSearchCV(estimator = cb_regr, param_grid = grid, scoring=\"neg_mean_squared_error\", cv=3)\n",
        "# execute search\n",
        "grid_search_cb.fit(X_train_cb, y_train_cb)\n",
        "# summarize result\n",
        "print('The best hyperparameters are: {}'.format(grid_search_cb.best_params_))"
      ],
      "execution_count": null,
      "outputs": [
        {
          "name": "stdout",
          "output_type": "stream",
          "text": [
            "The best hyperparameters are: {'depth': 6, 'l2_leaf_reg': 5, 'learning_rate': 0.5}\n",
            "CPU times: user 4min 9s, sys: 3.6 s, total: 4min 12s\n",
            "Wall time: 2min 20s\n"
          ]
        }
      ]
    },
    {
      "cell_type": "markdown",
      "metadata": {
        "id": "gIf-7OoPA3J6"
      },
      "source": [
        "<div class=\"alert alert-block alert-success\">\n",
        "<b>Success:</b> Right that internal method of categorical features encoding was used.\n",
        "</div>"
      ]
    },
    {
      "cell_type": "code",
      "metadata": {
        "id": "CEyElkCYKgQa"
      },
      "source": [
        "# create the CatBoost regressor model\n",
        "def catboost_regressor(X_train, y_train, X_test, y_test):\n",
        "    \"\"\"\n",
        "    This is a catboost regressor function developed to train\n",
        "    the model, make prediction on train and testing dataset, \n",
        "    and compute evaluation metrics for testing datasets\n",
        "    \"\"\"\n",
        "    # define model\n",
        "    model = CatBoostRegressor(**grid_search_cb.best_params_)\n",
        "    model.fit(X_train, y_train, cat_features=cat_features, eval_set=(X_test, y_test), verbose=False, plot=False) # train the model \n",
        "    # make predictions on train set\n",
        "    y_pred = model.predict(X_test)\n",
        "    # compute RMSE for catboost regression \n",
        "    print('RMSE: {:.3f}'.format(np.sqrt(mean_squared_error(y_test, y_pred))))\n",
        "    print()\n",
        "    # feature importance from CatBoost regression \n",
        "    sorted_feature_importance = model.feature_importances_.argsort()\n",
        "    plt.figure(figsize=(8,6))\n",
        "    plt.barh(X_cb.columns[sorted_feature_importance], \n",
        "             model.feature_importances_[sorted_feature_importance], \n",
        "             color='turquoise')\n",
        "    plt.xlabel(\"CatBoost Feature Importance\")"
      ],
      "execution_count": null,
      "outputs": []
    },
    {
      "cell_type": "code",
      "metadata": {
        "colab": {
          "base_uri": "https://localhost:8080/",
          "height": 475
        },
        "id": "8t3msPQ5KgQa",
        "outputId": "bc57ed7c-e09f-4852-ad5e-63ee7ab55f22"
      },
      "source": [
        "%%time\n",
        "# determine RMSE for catboost regressor\n",
        "print(\"\\033[1m\" + 'RMSE using CatBoost Regressor' + \"\\033[0m\")\n",
        "catboost_regressor(X_train_cb, y_train_cb, X_test_cb, y_test_cb)"
      ],
      "execution_count": null,
      "outputs": [
        {
          "name": "stdout",
          "output_type": "stream",
          "text": [
            "\u001b[1mRMSE using CatBoost Regressor\u001b[0m\n",
            "RMSE: 1708.513\n",
            "\n",
            "CPU times: user 6min 46s, sys: 6.09 s, total: 6min 52s\n",
            "Wall time: 3min 32s\n"
          ]
        },
        {
          "data": {
            "image/png": "[encoded data removed]",
            "text/plain": [
              "<Figure size 576x432 with 1 Axes>"
            ]
          },
          "metadata": {
            "needs_background": "light"
          },
          "output_type": "display_data"
        }
      ]
    },
    {
      "cell_type": "markdown",
      "metadata": {
        "id": "t8t3wQeagLM6"
      },
      "source": [
        "## LightGBM with hyperparameter tuning\n"
      ]
    },
    {
      "cell_type": "markdown",
      "metadata": {
        "id": "m7BEl3tigNkw"
      },
      "source": [
        "- We create a separate dataset without any encoding. \n",
        "- The LightLGBM model will encode the categorical features.\n",
        "- we tune the hyperparameters, and use small num_leaves to deal with overfitting"
      ]
    },
    {
      "cell_type": "code",
      "metadata": {
        "id": "cXqFwWPhKgQb"
      },
      "source": [
        "# declare variables for target and features\n",
        "y_le = car_df.price\n",
        "X_le = car_df.drop(['price'], axis=1)\n",
        "\n",
        "# split data into 75% training and 25% testing sets\n",
        "X_train_le, X_test_le, y_train_le, y_test_le = train_test_split(X_le, y_le, test_size=0.25, random_state=12345)\n",
        "\n",
        "# make a copy to avoid changing original data\n",
        "label__X_train = X_train_le.copy()\n",
        "label__X_test = X_test_le.copy()\n",
        "\n",
        "# categorical features\n",
        "categorical_cols = [cname for cname in X_train_le.columns if X_train_le[cname].dtype == 'object']\n",
        "\n",
        "# apply ordinal encoder to each column with categorical data\n",
        "ordinal_encoder = OrdinalEncoder()\n",
        "label__X_train[categorical_cols] = ordinal_encoder.fit_transform(X_train_le[categorical_cols])\n",
        "label__X_test[categorical_cols] = ordinal_encoder.transform(X_test_le[categorical_cols])"
      ],
      "execution_count": null,
      "outputs": []
    },
    {
      "cell_type": "code",
      "metadata": {
        "colab": {
          "base_uri": "https://localhost:8080/"
        },
        "id": "-DgZR5BMKgQb",
        "outputId": "12844660-e5ff-4674-916f-4a507c5fb6ec"
      },
      "source": [
        "%%time\n",
        "# hyperparameter optimization for LightGBM regression\n",
        "\n",
        "# define hyperparameters to tune\n",
        "lgbm_grid = {'learning_rate': [0.001, 0.01, 0.05, 0.1],\n",
        "             'n_estimators': [50],\n",
        "             'num_leaves': [5, 10, 20]\n",
        "            }\n",
        "# define the model \n",
        "lgbm_regr = LGBMRegressor(random_state = 12345)\n",
        "\n",
        "# define the grid search\n",
        "grid_search_lgbm = GridSearchCV(\n",
        "    estimator = lgbm_regr, \n",
        "    param_grid = lgbm_grid, \n",
        "    scoring = \"neg_mean_squared_error\", \n",
        "    cv = 3, \n",
        "    n_jobs = 1\n",
        ")\n",
        "# execute search\n",
        "grid_search_lgbm.fit(label__X_train, y_train_le)\n",
        "# summarize result\n",
        "print('The best hyperparameters are: {}'.format(grid_search_lgbm.best_params_))"
      ],
      "execution_count": null,
      "outputs": [
        {
          "name": "stdout",
          "output_type": "stream",
          "text": [
            "The best hyperparameters are: {'learning_rate': 0.1, 'n_estimators': 50, 'num_leaves': 20}\n",
            "CPU times: user 43.2 s, sys: 382 ms, total: 43.6 s\n",
            "Wall time: 22.6 s\n"
          ]
        }
      ]
    },
    {
      "cell_type": "markdown",
      "metadata": {
        "id": "S0YUBktDA3J7"
      },
      "source": [
        "<div class=\"alert alert-block alert-info\">\n",
        "\n",
        "<b>Improve: </b> LightGBM also has internal method. Just change type of categorical features: `.astype('category')`\n",
        "</div>"
      ]
    },
    {
      "cell_type": "code",
      "metadata": {
        "id": "elOZPPD9KgQb"
      },
      "source": [
        "# create the LightGBM regressor model\n",
        "def lightGBM_regressor(X_train, y_train, X_test, y_test):\n",
        "    \"\"\"\n",
        "    This is a lightGBM regressor function developed to train\n",
        "    the model, make prediction on train and testing dataset, \n",
        "    and compute evaluation metrics for testing datasets\n",
        "    \"\"\"\n",
        "    # define model\n",
        "    model = LGBMRegressor(**grid_search_lgbm.best_params_)\n",
        "    model.fit(X_train, y_train) # train the model \n",
        "    # make predictions on train set\n",
        "    y_pred = model.predict(X_test)\n",
        "    # compute RMSE for LGBM regressor    \n",
        "    print('RMSE: {:.3f}'.format(np.sqrt(mean_squared_error(y_test, y_pred))))\n",
        "    print()\n",
        "    # feature importance from LightGBM regression \n",
        "    sorted_feature_importance = model.feature_importances_.argsort()\n",
        "    plt.figure(figsize=(8,6))\n",
        "    plt.barh(X_le.columns[sorted_feature_importance], \n",
        "             model.feature_importances_[sorted_feature_importance], \n",
        "             color='dodgerblue')\n",
        "    plt.xlabel(\"LightGBM Feature Importance\")"
      ],
      "execution_count": null,
      "outputs": []
    },
    {
      "cell_type": "code",
      "metadata": {
        "colab": {
          "base_uri": "https://localhost:8080/",
          "height": 475
        },
        "id": "EHdud4XnKgQb",
        "outputId": "0cd31ca7-f3f4-4863-f056-ec8c165e9959"
      },
      "source": [
        "%%time\n",
        "# determine RMSE for lightGBM regressor\n",
        "print(\"\\033[1m\" + 'RMSE using LightGBM Regressor' + \"\\033[0m\")\n",
        "lightGBM_regressor(label__X_train, y_train_le, label__X_test, y_test_le)"
      ],
      "execution_count": null,
      "outputs": [
        {
          "name": "stdout",
          "output_type": "stream",
          "text": [
            "\u001b[1mRMSE using LightGBM Regressor\u001b[0m\n",
            "RMSE: 1964.119\n",
            "\n",
            "CPU times: user 1.9 s, sys: 8.99 ms, total: 1.91 s\n",
            "Wall time: 1.01 s\n"
          ]
        },
        {
          "data": {
            "image/png": "[encoded data removed]",
            "text/plain": [
              "<Figure size 576x432 with 1 Axes>"
            ]
          },
          "metadata": {
            "needs_background": "light"
          },
          "output_type": "display_data"
        }
      ]
    },
    {
      "cell_type": "markdown",
      "metadata": {
        "id": "njj0lly5WkhX"
      },
      "source": [
        "**Conclusion**\n",
        "\n",
        "- In this section, we used:\n",
        "  - Random Forest Regressor to test the cardinality on the categorical variables. \n",
        "  - We've compared both approaches (without considering any other model), One Hot Encoding and Label encoding and found that the best approach is one-hot encoding since it gave the lowest RSME score( but still both approaches are close). \n",
        "  - We trained different algorithms with different hyperparameters, in order to compare different gradient boosting methods with random forest, decision tree and linear regression. \n",
        "  - We trained a Linear Regression Model for sanity check, Random Forest Regressor, Catboost Regressor, and LightGBM Regressor. \n",
        "  - We tuned different hyperparameters that influences the performance of the models. \n",
        "  - We observed the time to tune hyperparameters and train the model. \n",
        "  - The metric we used to evaluate the model is the RMSE score."
      ]
    },
    {
      "cell_type": "markdown",
      "metadata": {
        "id": "i8UbOtQcA3J8"
      },
      "source": [
        "<div class=\"alert alert-block alert-success\">\n",
        "<b>Success:</b> This part was done well. Good job!\n",
        "</div>"
      ]
    },
    {
      "cell_type": "markdown",
      "metadata": {
        "id": "OXIwmoV6iUId"
      },
      "source": [
        "# <a id=\"4\"> Model analysis"
      ]
    },
    {
      "cell_type": "markdown",
      "metadata": {
        "id": "D4j0wy5QiUMU"
      },
      "source": [
        "- We are analyzing and assessing in this section the quality of the trained models. \n",
        "- Models' summary, RMSE, the time for hyperparameters tuning and model training"
      ]
    },
    {
      "cell_type": "markdown",
      "metadata": {
        "id": "Nvi0vPpSiUQs"
      },
      "source": [
        "**And this is a summary of our results**\n",
        "\n",
        "|**Models**| **Time required to tune hyperparameters**  | **Time required to train model**  | **RMSE score**  |\n",
        "|---|---|---|---|\n",
        "| Linear Regression\t| - | 5.05 sec | 3081.710 |\n",
        "| Random Forest Regressor | 1289 sec | 33.8 sec | 1713.992 |\n",
        "| CatBoost Regressor | 140 sec | 211 sec | 1716.704 |\n",
        "| LightGBM Regressor | 29.9 sec | 1.4 sec | 1969.816 |"
      ]
    },
    {
      "cell_type": "markdown",
      "metadata": {
        "id": "lZ5SEqejA3J9"
      },
      "source": [
        "<div class=\"alert alert-block alert-info\">\n",
        "<b>Improve: </b> It would be better if you've measured time for training and predicting separetaly. Usually second one is more important. Time of parameters tuning do not make sense because it depends on range of parameters.\n",
        "</div>"
      ]
    },
    {
      "cell_type": "markdown",
      "metadata": {
        "id": "nbfsvTvpmV_r"
      },
      "source": [
        "**Conclusion**"
      ]
    },
    {
      "cell_type": "markdown",
      "metadata": {
        "id": "wyIQPa7_mREG"
      },
      "source": [
        "We can conclude that:\n",
        "- Linear regression has the highest(worst) RMSE score of 3081.710, which means the worst which is expected \n",
        "- LightGBM Regressor has a relatively high score of RMSE, but take much less time to tune the hyperparams and to train.\n",
        "- Random Forest Regressor has the best RMSE score of 1713.992, but took 1289 sec to tune the hyperparameters.\n",
        "- CatBoost Regressor has an RMSE score of 1716.70, which is close to the Random Forest RMSE score, but took less time to tune the hyperparams \n",
        "\n",
        "To sum up:\n",
        "\n",
        "- In terms of speed of prediction, the LightGBM is the best. \n",
        "- In terms of RMSE score, Random Forest Regressor is the best.\n",
        "- When taking in consideration both parameters, the CatBoost Regressor seems to fit the best.\n"
      ]
    },
    {
      "cell_type": "markdown",
      "metadata": {
        "id": "pDVakR80if8y"
      },
      "source": [
        "# <a id=\"5\"> Overall Conclusion\n"
      ]
    },
    {
      "cell_type": "markdown",
      "metadata": {
        "id": "wM9Oj99OiiNr"
      },
      "source": [
        "The business task of this project is to predict the price of cars.\n",
        "\n",
        "- In the first section, we loaded the data and began the preparation:\n",
        "  - by renaming the column & checking for missing values \n",
        "  - we had 5 columns with missing values\n",
        "  - We handled the missing values by filling with unique properties of the data. \n",
        "  - We proceeded after that to duplicates, we duplicated data by dropping it\n",
        "  - we coverted the data to the correct datatypes\n",
        "  - we after that added a new column `age` (the vehicle's age). \n",
        "- In the next section we carried out EDA part and checked for anomalies and outliers in the data. \n",
        "  - We had anomalies in `power` and `age` features\n",
        "  - we removed anomalies and filtered the data\n",
        "- In the model preparation section, \n",
        "  - we tested the effect of cardinality on the categorical variables using the Random Forest Regressor. \n",
        "  - we've seen that the best approach to is one-hot encoding since it gave the lowest RSME score (noting that there is no big difference between RMSE scores of both approaches). \n",
        "  - After that, we trained different algorithms with various hyperparameters, in order to compare different gradient boosting methods with Random forest, Decision tree and Linear regression. \n",
        "    - We trained a Linear Regression model for sanity check, \n",
        "    - Random forest regressor, \n",
        "    - Catboost regressor, \n",
        "    - LightGBM regressor. \n",
        "  - We also tuned different hyperparameters. The metric used to evaluate the model is RMSE score.\n",
        "\n",
        "- In the last section of model analysis and quality assesment, we've seen that the lowest the RMSE is, with the lowest prediction and hyperparams tuning time, the best the model is. \n",
        "  - we observed that CatBoost Regressor has an RMSE score of 1716.70, which is close to the Random Forest RMSE score, but took less time to tune the hyperparams. So is relatively the best in this case."
      ]
    },
    {
      "cell_type": "markdown",
      "metadata": {
        "id": "Lz-6BLaitWli"
      },
      "source": [
        "<div class=\"alert alert-block alert-success\">\n",
        "<b>Success:</b> Glad to see well-structured conclusion at the end of the project!\n",
        "</div>"
      ]
    }
  ]
}